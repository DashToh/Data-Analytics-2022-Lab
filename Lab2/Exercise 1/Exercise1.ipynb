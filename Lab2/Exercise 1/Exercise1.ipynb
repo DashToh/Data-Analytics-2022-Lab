{
 "cells": [
  {
   "cell_type": "markdown",
   "id": "7d152ea2",
   "metadata": {},
   "source": [
    "# Excercise 1 - Generated Quantities Block\n",
    "1. Compile code_1.stan and sample from it using M=F\n",
    "2. Create a pandas dataframe from resulting draws.\n",
    "3. Plot a histogram for each of y_sim and lambda"
   ]
  },
  {
   "cell_type": "code",
   "execution_count": 1,
   "id": "5c4019c4",
   "metadata": {},
   "outputs": [],
   "source": [
    "from cmdstanpy import CmdStanModel\n",
    "import pandas as pd\n",
    "import arviz as az \n",
    "import numpy as np\n",
    "import matplotlib.pyplot as plt\n",
    "import scipy.stats as stats"
   ]
  },
  {
   "cell_type": "code",
   "execution_count": 3,
   "id": "5a9f11d3",
   "metadata": {},
   "outputs": [
    {
     "name": "stderr",
     "output_type": "stream",
     "text": [
      "INFO:cmdstanpy:found newer exe file, not recompiling\n"
     ]
    }
   ],
   "source": [
    "gen_quant = CmdStanModel(stan_file='code_1.stan')"
   ]
  },
  {
   "cell_type": "code",
   "execution_count": 4,
   "id": "43c98442",
   "metadata": {},
   "outputs": [
    {
     "name": "stderr",
     "output_type": "stream",
     "text": [
      "INFO:cmdstanpy:CmdStan start processing\n"
     ]
    },
    {
     "data": {
      "application/vnd.jupyter.widget-view+json": {
       "model_id": "61b7781f594b480cb16c3abcc76024f2",
       "version_major": 2,
       "version_minor": 0
      },
      "text/plain": [
       "chain 1 |          | 00:00 Status"
      ]
     },
     "metadata": {},
     "output_type": "display_data"
    },
    {
     "name": "stdout",
     "output_type": "stream",
     "text": [
      "                                                                                "
     ]
    },
    {
     "name": "stderr",
     "output_type": "stream",
     "text": [
      "INFO:cmdstanpy:CmdStan done processing.\n"
     ]
    },
    {
     "name": "stdout",
     "output_type": "stream",
     "text": [
      "\n"
     ]
    }
   ],
   "source": [
    "samples = gen_quant.sample(data={'M':7}, \n",
    "                            fixed_param=True, \n",
    "                            iter_sampling=1000, \n",
    "                            iter_warmup=0, \n",
    "                            chains = 1)"
   ]
  },
  {
   "cell_type": "code",
   "execution_count": 5,
   "id": "03359407",
   "metadata": {},
   "outputs": [
    {
     "data": {
      "text/html": [
       "<div>\n",
       "<style scoped>\n",
       "    .dataframe tbody tr th:only-of-type {\n",
       "        vertical-align: middle;\n",
       "    }\n",
       "\n",
       "    .dataframe tbody tr th {\n",
       "        vertical-align: top;\n",
       "    }\n",
       "\n",
       "    .dataframe thead th {\n",
       "        text-align: right;\n",
       "    }\n",
       "</style>\n",
       "<table border=\"1\" class=\"dataframe\">\n",
       "  <thead>\n",
       "    <tr style=\"text-align: right;\">\n",
       "      <th></th>\n",
       "      <th>lp__</th>\n",
       "      <th>accept_stat__</th>\n",
       "      <th>lambda</th>\n",
       "      <th>y_sim[1]</th>\n",
       "      <th>y_sim[2]</th>\n",
       "      <th>y_sim[3]</th>\n",
       "      <th>y_sim[4]</th>\n",
       "      <th>y_sim[5]</th>\n",
       "      <th>y_sim[6]</th>\n",
       "      <th>y_sim[7]</th>\n",
       "    </tr>\n",
       "  </thead>\n",
       "  <tbody>\n",
       "    <tr>\n",
       "      <th>0</th>\n",
       "      <td>0.0</td>\n",
       "      <td>0.0</td>\n",
       "      <td>70.67480</td>\n",
       "      <td>81.0</td>\n",
       "      <td>79.0</td>\n",
       "      <td>50.0</td>\n",
       "      <td>62.0</td>\n",
       "      <td>75.0</td>\n",
       "      <td>62.0</td>\n",
       "      <td>80.0</td>\n",
       "    </tr>\n",
       "    <tr>\n",
       "      <th>1</th>\n",
       "      <td>0.0</td>\n",
       "      <td>0.0</td>\n",
       "      <td>142.83300</td>\n",
       "      <td>114.0</td>\n",
       "      <td>125.0</td>\n",
       "      <td>116.0</td>\n",
       "      <td>153.0</td>\n",
       "      <td>138.0</td>\n",
       "      <td>149.0</td>\n",
       "      <td>149.0</td>\n",
       "    </tr>\n",
       "    <tr>\n",
       "      <th>2</th>\n",
       "      <td>0.0</td>\n",
       "      <td>0.0</td>\n",
       "      <td>206.85700</td>\n",
       "      <td>172.0</td>\n",
       "      <td>209.0</td>\n",
       "      <td>200.0</td>\n",
       "      <td>220.0</td>\n",
       "      <td>202.0</td>\n",
       "      <td>181.0</td>\n",
       "      <td>217.0</td>\n",
       "    </tr>\n",
       "    <tr>\n",
       "      <th>3</th>\n",
       "      <td>0.0</td>\n",
       "      <td>0.0</td>\n",
       "      <td>227.94500</td>\n",
       "      <td>216.0</td>\n",
       "      <td>256.0</td>\n",
       "      <td>236.0</td>\n",
       "      <td>242.0</td>\n",
       "      <td>247.0</td>\n",
       "      <td>226.0</td>\n",
       "      <td>244.0</td>\n",
       "    </tr>\n",
       "    <tr>\n",
       "      <th>4</th>\n",
       "      <td>0.0</td>\n",
       "      <td>0.0</td>\n",
       "      <td>212.55100</td>\n",
       "      <td>212.0</td>\n",
       "      <td>214.0</td>\n",
       "      <td>189.0</td>\n",
       "      <td>213.0</td>\n",
       "      <td>215.0</td>\n",
       "      <td>199.0</td>\n",
       "      <td>208.0</td>\n",
       "    </tr>\n",
       "    <tr>\n",
       "      <th>...</th>\n",
       "      <td>...</td>\n",
       "      <td>...</td>\n",
       "      <td>...</td>\n",
       "      <td>...</td>\n",
       "      <td>...</td>\n",
       "      <td>...</td>\n",
       "      <td>...</td>\n",
       "      <td>...</td>\n",
       "      <td>...</td>\n",
       "      <td>...</td>\n",
       "    </tr>\n",
       "    <tr>\n",
       "      <th>995</th>\n",
       "      <td>0.0</td>\n",
       "      <td>0.0</td>\n",
       "      <td>5.84077</td>\n",
       "      <td>6.0</td>\n",
       "      <td>4.0</td>\n",
       "      <td>7.0</td>\n",
       "      <td>5.0</td>\n",
       "      <td>4.0</td>\n",
       "      <td>9.0</td>\n",
       "      <td>8.0</td>\n",
       "    </tr>\n",
       "    <tr>\n",
       "      <th>996</th>\n",
       "      <td>0.0</td>\n",
       "      <td>0.0</td>\n",
       "      <td>43.18490</td>\n",
       "      <td>41.0</td>\n",
       "      <td>44.0</td>\n",
       "      <td>42.0</td>\n",
       "      <td>38.0</td>\n",
       "      <td>52.0</td>\n",
       "      <td>48.0</td>\n",
       "      <td>44.0</td>\n",
       "    </tr>\n",
       "    <tr>\n",
       "      <th>997</th>\n",
       "      <td>0.0</td>\n",
       "      <td>0.0</td>\n",
       "      <td>257.25000</td>\n",
       "      <td>254.0</td>\n",
       "      <td>259.0</td>\n",
       "      <td>251.0</td>\n",
       "      <td>270.0</td>\n",
       "      <td>252.0</td>\n",
       "      <td>266.0</td>\n",
       "      <td>263.0</td>\n",
       "    </tr>\n",
       "    <tr>\n",
       "      <th>998</th>\n",
       "      <td>0.0</td>\n",
       "      <td>0.0</td>\n",
       "      <td>100.54100</td>\n",
       "      <td>92.0</td>\n",
       "      <td>106.0</td>\n",
       "      <td>83.0</td>\n",
       "      <td>94.0</td>\n",
       "      <td>107.0</td>\n",
       "      <td>113.0</td>\n",
       "      <td>94.0</td>\n",
       "    </tr>\n",
       "    <tr>\n",
       "      <th>999</th>\n",
       "      <td>0.0</td>\n",
       "      <td>0.0</td>\n",
       "      <td>85.76080</td>\n",
       "      <td>78.0</td>\n",
       "      <td>78.0</td>\n",
       "      <td>90.0</td>\n",
       "      <td>99.0</td>\n",
       "      <td>77.0</td>\n",
       "      <td>100.0</td>\n",
       "      <td>91.0</td>\n",
       "    </tr>\n",
       "  </tbody>\n",
       "</table>\n",
       "<p>1000 rows × 10 columns</p>\n",
       "</div>"
      ],
      "text/plain": [
       "     lp__  accept_stat__     lambda  y_sim[1]  y_sim[2]  y_sim[3]  y_sim[4]  \\\n",
       "0     0.0            0.0   70.67480      81.0      79.0      50.0      62.0   \n",
       "1     0.0            0.0  142.83300     114.0     125.0     116.0     153.0   \n",
       "2     0.0            0.0  206.85700     172.0     209.0     200.0     220.0   \n",
       "3     0.0            0.0  227.94500     216.0     256.0     236.0     242.0   \n",
       "4     0.0            0.0  212.55100     212.0     214.0     189.0     213.0   \n",
       "..    ...            ...        ...       ...       ...       ...       ...   \n",
       "995   0.0            0.0    5.84077       6.0       4.0       7.0       5.0   \n",
       "996   0.0            0.0   43.18490      41.0      44.0      42.0      38.0   \n",
       "997   0.0            0.0  257.25000     254.0     259.0     251.0     270.0   \n",
       "998   0.0            0.0  100.54100      92.0     106.0      83.0      94.0   \n",
       "999   0.0            0.0   85.76080      78.0      78.0      90.0      99.0   \n",
       "\n",
       "     y_sim[5]  y_sim[6]  y_sim[7]  \n",
       "0        75.0      62.0      80.0  \n",
       "1       138.0     149.0     149.0  \n",
       "2       202.0     181.0     217.0  \n",
       "3       247.0     226.0     244.0  \n",
       "4       215.0     199.0     208.0  \n",
       "..        ...       ...       ...  \n",
       "995       4.0       9.0       8.0  \n",
       "996      52.0      48.0      44.0  \n",
       "997     252.0     266.0     263.0  \n",
       "998     107.0     113.0      94.0  \n",
       "999      77.0     100.0      91.0  \n",
       "\n",
       "[1000 rows x 10 columns]"
      ]
     },
     "execution_count": 5,
     "metadata": {},
     "output_type": "execute_result"
    }
   ],
   "source": [
    "#Create a pandas dataframe from resulting draws.\n",
    "df = samples.draws_pd()\n",
    "df"
   ]
  },
  {
   "cell_type": "code",
   "execution_count": 6,
   "id": "d619ac29",
   "metadata": {},
   "outputs": [
    {
     "data": {
      "image/png": "[encoded data removed]",
      "text/plain": [
       "<Figure size 1080x2160 with 8 Axes>"
      ]
     },
     "metadata": {
      "needs_background": "light"
     },
     "output_type": "display_data"
    }
   ],
   "source": [
    "#Plot a histogram for each of y_sim and lambda\n",
    "f, ax = plt.subplots(4,2, figsize=(15,30))\n",
    "df.hist('y_sim[1]',bins = 20, ax=ax[0][0])\n",
    "df.hist('y_sim[2]',bins = 20, ax=ax[0][1])\n",
    "df.hist('y_sim[3]',bins = 20, ax=ax[1][0])\n",
    "df.hist('y_sim[4]',bins = 20, ax=ax[1][1])\n",
    "df.hist('y_sim[5]',bins = 20, ax=ax[2][0])\n",
    "df.hist('y_sim[6]',bins = 20, ax=ax[2][1])\n",
    "df.hist('y_sim[7]',bins = 20, ax=ax[3][0])\n",
    "df.hist('lambda', bins = 20, ax=ax[3][1])\n",
    "plt.subplots_adjust(left=0.1, bottom=0.1, right=0.9, top=0.9, wspace=0.1, hspace=0.1)"
   ]
  }
 ],
 "metadata": {
  "interpreter": {
   "hash": "3acfd0d212cedc42c609187b82261e631eac706397bd7c45c61d4d9ddc6b7198"
  },
  "kernelspec": {
   "display_name": "Python 3.9.12 ('base')",
   "language": "python",
   "name": "python3"
  },
  "language_info": {
   "codemirror_mode": {
    "name": "ipython",
    "version": 3
   },
   "file_extension": ".py",
   "mimetype": "text/x-python",
   "name": "python",
   "nbconvert_exporter": "python",
   "pygments_lexer": "ipython3",
   "version": "3.9.12"
  }
 },
 "nbformat": 4,
 "nbformat_minor": 5
}
