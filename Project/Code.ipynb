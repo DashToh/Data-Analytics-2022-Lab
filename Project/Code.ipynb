{
 "cells": [
  {
   "cell_type": "markdown",
   "metadata": {},
   "source": [
    "# NBA 2022 Champion\n",
    "## NBA league\n",
    "\n",
    "- There are 30 teams in the NBA league and they are divided into East and West Conference (15 teams on each and the standings for each team are shown below)\n",
    "\n",
    "- Each team will play 82 matches in total throughout the entire season\n",
    "\n",
    "- The top 8 teams from each conference will advance to the playoff according to their win-lose record (the picture below shows the playoff tree)\n",
    "\n",
    "- Each series will be held in the form of best of 7\n"
   ]
  },
  {
   "cell_type": "markdown",
   "metadata": {},
   "source": [
    "<img src= \"Western_Standings.png\">"
   ]
  },
  {
   "cell_type": "markdown",
   "metadata": {},
   "source": [
    "<img src= \"Eastern_Standings.png\">"
   ]
  },
  {
   "cell_type": "markdown",
   "metadata": {},
   "source": [
    "<img src= \"NBA2022_Playoff.png\">"
   ]
  },
  {
   "cell_type": "markdown",
   "metadata": {},
   "source": [
    "## Task\n",
    "\n",
    "- There are only 2 teams left playing in the finals today (Golden State Warriors vs Boston Celtics)\n",
    "\n",
    "- Our task will be getting the probability of ```Golden State Warriors``` to win 4 games and win the championship\n",
    "\n",
    "- There are 2 datasets in total:\n",
    "    1. The records of Golden State Warriors vs Boston Celtics during the season\n",
    "\n",
    "    2. The NBA finals history record\n",
    "\n",
    "There isn't any source provides the best dataset we are looking for therefore we made our own dataset based on the data that are retrieved from https://www.sofascore.com/tournament/basketball/usa/nba/132. <br>\n",
    "\n",
    "The first dataset contain the dates when the matches are played, which teams are playing, the scores and a column with boolean value that will be true if the team we are interested in wins and false if it loses. <br>\n",
    "\n",
    "The second dataset contains the year of season, the championship team, series record, total games needed to finish the series and finals MVP."
   ]
  },
  {
   "cell_type": "code",
   "execution_count": 1,
   "metadata": {},
   "outputs": [],
   "source": [
    "from cmdstanpy import CmdStanModel\n",
    "import arviz as az\n",
    "import numpy as np\n",
    "import scipy.stats as stats\n",
    "import pandas as pd\n",
    "import statistics as s \n",
    "import seaborn as sns\n",
    "from matplotlib.pyplot import figure\n",
    "\n",
    "import matplotlib.pyplot as plt\n",
    "import matplotlib as mpl"
   ]
  },
  {
   "cell_type": "markdown",
   "metadata": {},
   "source": [
    "## Data"
   ]
  },
  {
   "cell_type": "markdown",
   "metadata": {},
   "source": [
    "### Golden State Warriors vs Boston Celtics records"
   ]
  },
  {
   "cell_type": "code",
   "execution_count": 25,
   "metadata": {},
   "outputs": [
    {
     "data": {
      "text/html": [
       "<div>\n",
       "<style scoped>\n",
       "    .dataframe tbody tr th:only-of-type {\n",
       "        vertical-align: middle;\n",
       "    }\n",
       "\n",
       "    .dataframe tbody tr th {\n",
       "        vertical-align: top;\n",
       "    }\n",
       "\n",
       "    .dataframe thead th {\n",
       "        text-align: right;\n",
       "    }\n",
       "</style>\n",
       "<table border=\"1\" class=\"dataframe\">\n",
       "  <thead>\n",
       "    <tr style=\"text-align: right;\">\n",
       "      <th></th>\n",
       "      <th>Date</th>\n",
       "      <th>Teams</th>\n",
       "      <th>Score</th>\n",
       "      <th>Warriors</th>\n",
       "      <th>Boston</th>\n",
       "    </tr>\n",
       "    <tr>\n",
       "      <th>Match</th>\n",
       "      <th></th>\n",
       "      <th></th>\n",
       "      <th></th>\n",
       "      <th></th>\n",
       "      <th></th>\n",
       "    </tr>\n",
       "  </thead>\n",
       "  <tbody>\n",
       "    <tr>\n",
       "      <th>1</th>\n",
       "      <td>18/12/2021</td>\n",
       "      <td>Boston - Warriors</td>\n",
       "      <td>107 - 111</td>\n",
       "      <td>1</td>\n",
       "      <td>0</td>\n",
       "    </tr>\n",
       "    <tr>\n",
       "      <th>2</th>\n",
       "      <td>17/03/2021</td>\n",
       "      <td>Warriors - Boston</td>\n",
       "      <td>88 - 110</td>\n",
       "      <td>0</td>\n",
       "      <td>1</td>\n",
       "    </tr>\n",
       "  </tbody>\n",
       "</table>\n",
       "</div>"
      ],
      "text/plain": [
       "             Date              Teams      Score  Warriors  Boston\n",
       "Match                                                            \n",
       "1      18/12/2021  Boston - Warriors  107 - 111         1       0\n",
       "2      17/03/2021  Warriors - Boston   88 - 110         0       1"
      ]
     },
     "execution_count": 25,
     "metadata": {},
     "output_type": "execute_result"
    }
   ],
   "source": [
    "Matchup = pd.read_csv('Warriors_Boston.csv')\n",
    "Matchup = Matchup.set_index('Match')\n",
    "Matchup_Warriors = Matchup['Warriors']\n",
    "Matchup"
   ]
  },
  {
   "cell_type": "markdown",
   "metadata": {},
   "source": [
    "### Golden State Warriors playoff records"
   ]
  },
  {
   "cell_type": "code",
   "execution_count": 87,
   "metadata": {},
   "outputs": [
    {
     "data": {
      "text/html": [
       "<div>\n",
       "<style scoped>\n",
       "    .dataframe tbody tr th:only-of-type {\n",
       "        vertical-align: middle;\n",
       "    }\n",
       "\n",
       "    .dataframe tbody tr th {\n",
       "        vertical-align: top;\n",
       "    }\n",
       "\n",
       "    .dataframe thead th {\n",
       "        text-align: right;\n",
       "    }\n",
       "</style>\n",
       "<table border=\"1\" class=\"dataframe\">\n",
       "  <thead>\n",
       "    <tr style=\"text-align: right;\">\n",
       "      <th></th>\n",
       "      <th>Date</th>\n",
       "      <th>Teams</th>\n",
       "      <th>Score</th>\n",
       "      <th>Warriors</th>\n",
       "    </tr>\n",
       "    <tr>\n",
       "      <th>Match</th>\n",
       "      <th></th>\n",
       "      <th></th>\n",
       "      <th></th>\n",
       "      <th></th>\n",
       "    </tr>\n",
       "  </thead>\n",
       "  <tbody>\n",
       "    <tr>\n",
       "      <th>1</th>\n",
       "      <td>17/04/2022</td>\n",
       "      <td>Warriors - Denver</td>\n",
       "      <td>123 - 107</td>\n",
       "      <td>1</td>\n",
       "    </tr>\n",
       "    <tr>\n",
       "      <th>2</th>\n",
       "      <td>19/04/2022</td>\n",
       "      <td>Warriors - Denver</td>\n",
       "      <td>126 - 106</td>\n",
       "      <td>1</td>\n",
       "    </tr>\n",
       "    <tr>\n",
       "      <th>3</th>\n",
       "      <td>22/04/2022</td>\n",
       "      <td>Denver - Warriors</td>\n",
       "      <td>113 - 118</td>\n",
       "      <td>1</td>\n",
       "    </tr>\n",
       "    <tr>\n",
       "      <th>4</th>\n",
       "      <td>24/04/2022</td>\n",
       "      <td>Denver - Warriors</td>\n",
       "      <td>126 - 121</td>\n",
       "      <td>0</td>\n",
       "    </tr>\n",
       "    <tr>\n",
       "      <th>5</th>\n",
       "      <td>28/04/2022</td>\n",
       "      <td>Warriors - Denver</td>\n",
       "      <td>102 - 98</td>\n",
       "      <td>1</td>\n",
       "    </tr>\n",
       "    <tr>\n",
       "      <th>6</th>\n",
       "      <td>01/05/2022</td>\n",
       "      <td>Memphis - Warriors</td>\n",
       "      <td>116 - 117</td>\n",
       "      <td>1</td>\n",
       "    </tr>\n",
       "    <tr>\n",
       "      <th>7</th>\n",
       "      <td>04/05/2022</td>\n",
       "      <td>Memphis - Warriors</td>\n",
       "      <td>106 - 101</td>\n",
       "      <td>0</td>\n",
       "    </tr>\n",
       "    <tr>\n",
       "      <th>8</th>\n",
       "      <td>08/05/2022</td>\n",
       "      <td>Warriors - Memphis</td>\n",
       "      <td>142 - 112</td>\n",
       "      <td>1</td>\n",
       "    </tr>\n",
       "    <tr>\n",
       "      <th>9</th>\n",
       "      <td>10/05/2022</td>\n",
       "      <td>Warriors - Memphis</td>\n",
       "      <td>101 - 98</td>\n",
       "      <td>1</td>\n",
       "    </tr>\n",
       "    <tr>\n",
       "      <th>10</th>\n",
       "      <td>12/05/2022</td>\n",
       "      <td>Memphis - Warriors</td>\n",
       "      <td>134 - 95</td>\n",
       "      <td>0</td>\n",
       "    </tr>\n",
       "    <tr>\n",
       "      <th>11</th>\n",
       "      <td>14/05/2022</td>\n",
       "      <td>Warriors - Memphis</td>\n",
       "      <td>110 - 96</td>\n",
       "      <td>1</td>\n",
       "    </tr>\n",
       "    <tr>\n",
       "      <th>12</th>\n",
       "      <td>19/05/2022</td>\n",
       "      <td>Warriors - Dallas</td>\n",
       "      <td>112 - 87</td>\n",
       "      <td>1</td>\n",
       "    </tr>\n",
       "    <tr>\n",
       "      <th>13</th>\n",
       "      <td>21/05/2022</td>\n",
       "      <td>Warriors - Dallas</td>\n",
       "      <td>126 - 117</td>\n",
       "      <td>1</td>\n",
       "    </tr>\n",
       "    <tr>\n",
       "      <th>14</th>\n",
       "      <td>23/05/2022</td>\n",
       "      <td>Dallas - Warriors</td>\n",
       "      <td>100 - 109</td>\n",
       "      <td>1</td>\n",
       "    </tr>\n",
       "    <tr>\n",
       "      <th>15</th>\n",
       "      <td>25/05/2022</td>\n",
       "      <td>Dallas - Warriors</td>\n",
       "      <td>119 - 109</td>\n",
       "      <td>0</td>\n",
       "    </tr>\n",
       "    <tr>\n",
       "      <th>16</th>\n",
       "      <td>27/05/2022</td>\n",
       "      <td>Warriors - Dallas</td>\n",
       "      <td>120 - 110</td>\n",
       "      <td>1</td>\n",
       "    </tr>\n",
       "  </tbody>\n",
       "</table>\n",
       "</div>"
      ],
      "text/plain": [
       "             Date               Teams      Score  Warriors\n",
       "Match                                                     \n",
       "1      17/04/2022   Warriors - Denver  123 - 107         1\n",
       "2      19/04/2022   Warriors - Denver  126 - 106         1\n",
       "3      22/04/2022   Denver - Warriors  113 - 118         1\n",
       "4      24/04/2022   Denver - Warriors  126 - 121         0\n",
       "5      28/04/2022   Warriors - Denver   102 - 98         1\n",
       "6      01/05/2022  Memphis - Warriors  116 - 117         1\n",
       "7      04/05/2022  Memphis - Warriors  106 - 101         0\n",
       "8      08/05/2022  Warriors - Memphis  142 - 112         1\n",
       "9      10/05/2022  Warriors - Memphis   101 - 98         1\n",
       "10     12/05/2022  Memphis - Warriors   134 - 95         0\n",
       "11     14/05/2022  Warriors - Memphis   110 - 96         1\n",
       "12     19/05/2022   Warriors - Dallas   112 - 87         1\n",
       "13     21/05/2022   Warriors - Dallas  126 - 117         1\n",
       "14     23/05/2022   Dallas - Warriors  100 - 109         1\n",
       "15     25/05/2022   Dallas - Warriors  119 - 109         0\n",
       "16     27/05/2022   Warriors - Dallas  120 - 110         1"
      ]
     },
     "execution_count": 87,
     "metadata": {},
     "output_type": "execute_result"
    }
   ],
   "source": [
    "Warriors_Playoff = pd.read_csv('Warriors_Playoff.csv')\n",
    "Warriors_Playoff = Warriors_Playoff.set_index('Match')\n",
    "Warriors_Playoff"
   ]
  },
  {
   "cell_type": "markdown",
   "metadata": {},
   "source": [
    "### NBA finals history record"
   ]
  },
  {
   "cell_type": "code",
   "execution_count": 99,
   "metadata": {},
   "outputs": [
    {
     "data": {
      "text/html": [
       "<div>\n",
       "<style scoped>\n",
       "    .dataframe tbody tr th:only-of-type {\n",
       "        vertical-align: middle;\n",
       "    }\n",
       "\n",
       "    .dataframe tbody tr th {\n",
       "        vertical-align: top;\n",
       "    }\n",
       "\n",
       "    .dataframe thead th {\n",
       "        text-align: right;\n",
       "    }\n",
       "</style>\n",
       "<table border=\"1\" class=\"dataframe\">\n",
       "  <thead>\n",
       "    <tr style=\"text-align: right;\">\n",
       "      <th></th>\n",
       "      <th>Champions</th>\n",
       "      <th>Series</th>\n",
       "      <th>Games</th>\n",
       "      <th>Finals MVP</th>\n",
       "    </tr>\n",
       "    <tr>\n",
       "      <th>Season</th>\n",
       "      <th></th>\n",
       "      <th></th>\n",
       "      <th></th>\n",
       "      <th></th>\n",
       "    </tr>\n",
       "  </thead>\n",
       "  <tbody>\n",
       "    <tr>\n",
       "      <th>1970</th>\n",
       "      <td>New York Knicks</td>\n",
       "      <td>4–3</td>\n",
       "      <td>7</td>\n",
       "      <td>Willis Reed</td>\n",
       "    </tr>\n",
       "    <tr>\n",
       "      <th>1971</th>\n",
       "      <td>Milwaukee Bucks</td>\n",
       "      <td>4–0</td>\n",
       "      <td>4</td>\n",
       "      <td>Lew Alcindor</td>\n",
       "    </tr>\n",
       "    <tr>\n",
       "      <th>1972</th>\n",
       "      <td>Los Angeles Lakers</td>\n",
       "      <td>4–1</td>\n",
       "      <td>5</td>\n",
       "      <td>Wilt Chamberlain</td>\n",
       "    </tr>\n",
       "    <tr>\n",
       "      <th>1973</th>\n",
       "      <td>New York Knicks</td>\n",
       "      <td>4–1</td>\n",
       "      <td>5</td>\n",
       "      <td>Willis Reed</td>\n",
       "    </tr>\n",
       "    <tr>\n",
       "      <th>1974</th>\n",
       "      <td>Boston Celtics</td>\n",
       "      <td>4–3</td>\n",
       "      <td>7</td>\n",
       "      <td>John Havlicek</td>\n",
       "    </tr>\n",
       "    <tr>\n",
       "      <th>1975</th>\n",
       "      <td>Golden State Warriors</td>\n",
       "      <td>4–0</td>\n",
       "      <td>4</td>\n",
       "      <td>Rick Barry</td>\n",
       "    </tr>\n",
       "    <tr>\n",
       "      <th>1976</th>\n",
       "      <td>Boston Celtics</td>\n",
       "      <td>4–2</td>\n",
       "      <td>6</td>\n",
       "      <td>Jo Jo White</td>\n",
       "    </tr>\n",
       "    <tr>\n",
       "      <th>1977</th>\n",
       "      <td>Portland Trail Blazers</td>\n",
       "      <td>4–2</td>\n",
       "      <td>6</td>\n",
       "      <td>Bill Walton</td>\n",
       "    </tr>\n",
       "    <tr>\n",
       "      <th>1978</th>\n",
       "      <td>Washington Bullets</td>\n",
       "      <td>4–3</td>\n",
       "      <td>7</td>\n",
       "      <td>Wes Unseld</td>\n",
       "    </tr>\n",
       "    <tr>\n",
       "      <th>1979</th>\n",
       "      <td>Seattle SuperSonics</td>\n",
       "      <td>4–1</td>\n",
       "      <td>5</td>\n",
       "      <td>Dennis Johnson</td>\n",
       "    </tr>\n",
       "    <tr>\n",
       "      <th>1980</th>\n",
       "      <td>Los Angeles Lakers</td>\n",
       "      <td>4–2</td>\n",
       "      <td>6</td>\n",
       "      <td>Magic Johnson</td>\n",
       "    </tr>\n",
       "    <tr>\n",
       "      <th>1981</th>\n",
       "      <td>Boston Celtics</td>\n",
       "      <td>4–2</td>\n",
       "      <td>6</td>\n",
       "      <td>Cedric Maxwell</td>\n",
       "    </tr>\n",
       "    <tr>\n",
       "      <th>1982</th>\n",
       "      <td>Los Angeles Lakers</td>\n",
       "      <td>4–2</td>\n",
       "      <td>6</td>\n",
       "      <td>Magic Johnson</td>\n",
       "    </tr>\n",
       "    <tr>\n",
       "      <th>1983</th>\n",
       "      <td>Philadelphia 76ers</td>\n",
       "      <td>4–0</td>\n",
       "      <td>4</td>\n",
       "      <td>Moses Malone</td>\n",
       "    </tr>\n",
       "    <tr>\n",
       "      <th>1984</th>\n",
       "      <td>Boston Celtics</td>\n",
       "      <td>4–3</td>\n",
       "      <td>7</td>\n",
       "      <td>Larry Bird</td>\n",
       "    </tr>\n",
       "    <tr>\n",
       "      <th>1985</th>\n",
       "      <td>Los Angeles Lakers</td>\n",
       "      <td>4–2</td>\n",
       "      <td>6</td>\n",
       "      <td>Kareem Abdul-Jabbar</td>\n",
       "    </tr>\n",
       "    <tr>\n",
       "      <th>1986</th>\n",
       "      <td>Boston Celtics</td>\n",
       "      <td>4–2</td>\n",
       "      <td>6</td>\n",
       "      <td>Larry Bird</td>\n",
       "    </tr>\n",
       "    <tr>\n",
       "      <th>1987</th>\n",
       "      <td>Los Angeles Lakers</td>\n",
       "      <td>4–2</td>\n",
       "      <td>6</td>\n",
       "      <td>Magic Johnson</td>\n",
       "    </tr>\n",
       "    <tr>\n",
       "      <th>1988</th>\n",
       "      <td>Los Angeles Lakers</td>\n",
       "      <td>4–3</td>\n",
       "      <td>7</td>\n",
       "      <td>James Worthy</td>\n",
       "    </tr>\n",
       "    <tr>\n",
       "      <th>1989</th>\n",
       "      <td>Detroit Pistons</td>\n",
       "      <td>4–0</td>\n",
       "      <td>4</td>\n",
       "      <td>Joe Dumars</td>\n",
       "    </tr>\n",
       "    <tr>\n",
       "      <th>1990</th>\n",
       "      <td>Detroit Pistons</td>\n",
       "      <td>4–1</td>\n",
       "      <td>5</td>\n",
       "      <td>Isiah Thomas</td>\n",
       "    </tr>\n",
       "    <tr>\n",
       "      <th>1991</th>\n",
       "      <td>Chicago Bulls</td>\n",
       "      <td>4–1</td>\n",
       "      <td>5</td>\n",
       "      <td>Michael Jordan</td>\n",
       "    </tr>\n",
       "    <tr>\n",
       "      <th>1992</th>\n",
       "      <td>Chicago Bulls</td>\n",
       "      <td>4–2</td>\n",
       "      <td>6</td>\n",
       "      <td>Michael Jordan</td>\n",
       "    </tr>\n",
       "    <tr>\n",
       "      <th>1993</th>\n",
       "      <td>Chicago Bulls</td>\n",
       "      <td>4–2</td>\n",
       "      <td>6</td>\n",
       "      <td>Michael Jordan</td>\n",
       "    </tr>\n",
       "    <tr>\n",
       "      <th>1994</th>\n",
       "      <td>Houston Rockets</td>\n",
       "      <td>4–3</td>\n",
       "      <td>7</td>\n",
       "      <td>Hakeem Olajuwon</td>\n",
       "    </tr>\n",
       "    <tr>\n",
       "      <th>1995</th>\n",
       "      <td>Houston Rockets</td>\n",
       "      <td>4–0</td>\n",
       "      <td>4</td>\n",
       "      <td>Hakeem Olajuwon</td>\n",
       "    </tr>\n",
       "    <tr>\n",
       "      <th>1996</th>\n",
       "      <td>Chicago Bulls</td>\n",
       "      <td>4–2</td>\n",
       "      <td>6</td>\n",
       "      <td>Michael Jordan</td>\n",
       "    </tr>\n",
       "    <tr>\n",
       "      <th>1997</th>\n",
       "      <td>Chicago Bulls</td>\n",
       "      <td>4–2</td>\n",
       "      <td>6</td>\n",
       "      <td>Michael Jordan</td>\n",
       "    </tr>\n",
       "    <tr>\n",
       "      <th>1998</th>\n",
       "      <td>Chicago Bulls</td>\n",
       "      <td>4–2</td>\n",
       "      <td>6</td>\n",
       "      <td>Michael Jordan</td>\n",
       "    </tr>\n",
       "    <tr>\n",
       "      <th>1999</th>\n",
       "      <td>San Antonio Spurs</td>\n",
       "      <td>4–1</td>\n",
       "      <td>5</td>\n",
       "      <td>Tim Duncan</td>\n",
       "    </tr>\n",
       "    <tr>\n",
       "      <th>2000</th>\n",
       "      <td>Los Angeles Lakers</td>\n",
       "      <td>4–2</td>\n",
       "      <td>6</td>\n",
       "      <td>Shaquille O'Neal</td>\n",
       "    </tr>\n",
       "    <tr>\n",
       "      <th>2001</th>\n",
       "      <td>Los Angeles Lakers</td>\n",
       "      <td>4–1</td>\n",
       "      <td>5</td>\n",
       "      <td>Shaquille O'Neal</td>\n",
       "    </tr>\n",
       "    <tr>\n",
       "      <th>2002</th>\n",
       "      <td>Los Angeles Lakers</td>\n",
       "      <td>4–0</td>\n",
       "      <td>4</td>\n",
       "      <td>Shaquille O'Neal</td>\n",
       "    </tr>\n",
       "    <tr>\n",
       "      <th>2003</th>\n",
       "      <td>San Antonio Spurs</td>\n",
       "      <td>4–2</td>\n",
       "      <td>6</td>\n",
       "      <td>Tim Duncan</td>\n",
       "    </tr>\n",
       "    <tr>\n",
       "      <th>2004</th>\n",
       "      <td>Detroit Pistons</td>\n",
       "      <td>4–1</td>\n",
       "      <td>5</td>\n",
       "      <td>Chauncey Billups</td>\n",
       "    </tr>\n",
       "    <tr>\n",
       "      <th>2005</th>\n",
       "      <td>San Antonio Spurs</td>\n",
       "      <td>4–3</td>\n",
       "      <td>7</td>\n",
       "      <td>Tim Duncan</td>\n",
       "    </tr>\n",
       "    <tr>\n",
       "      <th>2006</th>\n",
       "      <td>Miami Heat</td>\n",
       "      <td>4–2</td>\n",
       "      <td>6</td>\n",
       "      <td>Dwyane Wade</td>\n",
       "    </tr>\n",
       "    <tr>\n",
       "      <th>2007</th>\n",
       "      <td>San Antonio Spurs</td>\n",
       "      <td>4–0</td>\n",
       "      <td>4</td>\n",
       "      <td>Tony Parker</td>\n",
       "    </tr>\n",
       "    <tr>\n",
       "      <th>2008</th>\n",
       "      <td>Boston Celtics</td>\n",
       "      <td>4–2</td>\n",
       "      <td>6</td>\n",
       "      <td>Paul Pierce</td>\n",
       "    </tr>\n",
       "    <tr>\n",
       "      <th>2009</th>\n",
       "      <td>Los Angeles Lakers</td>\n",
       "      <td>4–1</td>\n",
       "      <td>5</td>\n",
       "      <td>Kobe Bryant</td>\n",
       "    </tr>\n",
       "    <tr>\n",
       "      <th>2010</th>\n",
       "      <td>Los Angeles Lakers</td>\n",
       "      <td>4–3</td>\n",
       "      <td>7</td>\n",
       "      <td>Kobe Bryant</td>\n",
       "    </tr>\n",
       "    <tr>\n",
       "      <th>2011</th>\n",
       "      <td>Dallas Mavericks</td>\n",
       "      <td>4–2</td>\n",
       "      <td>6</td>\n",
       "      <td>Dirk Nowitzki</td>\n",
       "    </tr>\n",
       "    <tr>\n",
       "      <th>2012</th>\n",
       "      <td>Miami Heat</td>\n",
       "      <td>4–1</td>\n",
       "      <td>5</td>\n",
       "      <td>LeBron James</td>\n",
       "    </tr>\n",
       "    <tr>\n",
       "      <th>2013</th>\n",
       "      <td>Miami Heat</td>\n",
       "      <td>4–3</td>\n",
       "      <td>7</td>\n",
       "      <td>LeBron James</td>\n",
       "    </tr>\n",
       "    <tr>\n",
       "      <th>2014</th>\n",
       "      <td>San Antonio Spurs</td>\n",
       "      <td>4–1</td>\n",
       "      <td>5</td>\n",
       "      <td>Kawhi Leonard</td>\n",
       "    </tr>\n",
       "    <tr>\n",
       "      <th>2015</th>\n",
       "      <td>Golden State Warriors</td>\n",
       "      <td>4–2</td>\n",
       "      <td>6</td>\n",
       "      <td>Andre Iguodala</td>\n",
       "    </tr>\n",
       "    <tr>\n",
       "      <th>2016</th>\n",
       "      <td>Cleveland Cavaliers</td>\n",
       "      <td>4–3</td>\n",
       "      <td>7</td>\n",
       "      <td>LeBron James</td>\n",
       "    </tr>\n",
       "    <tr>\n",
       "      <th>2017</th>\n",
       "      <td>Golden State Warriors</td>\n",
       "      <td>4–1</td>\n",
       "      <td>5</td>\n",
       "      <td>Kevin Durant</td>\n",
       "    </tr>\n",
       "    <tr>\n",
       "      <th>2018</th>\n",
       "      <td>Golden State Warriors</td>\n",
       "      <td>4–0</td>\n",
       "      <td>4</td>\n",
       "      <td>Kevin Durant</td>\n",
       "    </tr>\n",
       "    <tr>\n",
       "      <th>2019</th>\n",
       "      <td>Toronto Raptors</td>\n",
       "      <td>4–2</td>\n",
       "      <td>6</td>\n",
       "      <td>Kawhi Leonard</td>\n",
       "    </tr>\n",
       "    <tr>\n",
       "      <th>2020</th>\n",
       "      <td>Los Angeles Lakers</td>\n",
       "      <td>4–2</td>\n",
       "      <td>6</td>\n",
       "      <td>LeBron James</td>\n",
       "    </tr>\n",
       "    <tr>\n",
       "      <th>2021</th>\n",
       "      <td>Milwaukee Bucks</td>\n",
       "      <td>4–2</td>\n",
       "      <td>6</td>\n",
       "      <td>Giannis Antetokounmpo</td>\n",
       "    </tr>\n",
       "  </tbody>\n",
       "</table>\n",
       "</div>"
      ],
      "text/plain": [
       "                     Champions Series  Games             Finals MVP\n",
       "Season                                                             \n",
       "1970           New York Knicks    4–3      7            Willis Reed\n",
       "1971           Milwaukee Bucks    4–0      4           Lew Alcindor\n",
       "1972        Los Angeles Lakers    4–1      5       Wilt Chamberlain\n",
       "1973           New York Knicks    4–1      5            Willis Reed\n",
       "1974            Boston Celtics    4–3      7          John Havlicek\n",
       "1975     Golden State Warriors    4–0      4             Rick Barry\n",
       "1976            Boston Celtics    4–2      6            Jo Jo White\n",
       "1977    Portland Trail Blazers    4–2      6            Bill Walton\n",
       "1978        Washington Bullets    4–3      7             Wes Unseld\n",
       "1979       Seattle SuperSonics    4–1      5         Dennis Johnson\n",
       "1980        Los Angeles Lakers    4–2      6          Magic Johnson\n",
       "1981            Boston Celtics    4–2      6         Cedric Maxwell\n",
       "1982        Los Angeles Lakers    4–2      6          Magic Johnson\n",
       "1983        Philadelphia 76ers    4–0      4           Moses Malone\n",
       "1984            Boston Celtics    4–3      7             Larry Bird\n",
       "1985        Los Angeles Lakers    4–2      6    Kareem Abdul-Jabbar\n",
       "1986            Boston Celtics    4–2      6             Larry Bird\n",
       "1987        Los Angeles Lakers    4–2      6          Magic Johnson\n",
       "1988        Los Angeles Lakers    4–3      7           James Worthy\n",
       "1989           Detroit Pistons    4–0      4             Joe Dumars\n",
       "1990           Detroit Pistons    4–1      5           Isiah Thomas\n",
       "1991             Chicago Bulls    4–1      5         Michael Jordan\n",
       "1992             Chicago Bulls    4–2      6         Michael Jordan\n",
       "1993             Chicago Bulls    4–2      6         Michael Jordan\n",
       "1994           Houston Rockets    4–3      7        Hakeem Olajuwon\n",
       "1995           Houston Rockets    4–0      4        Hakeem Olajuwon\n",
       "1996             Chicago Bulls    4–2      6         Michael Jordan\n",
       "1997             Chicago Bulls    4–2      6         Michael Jordan\n",
       "1998             Chicago Bulls    4–2      6         Michael Jordan\n",
       "1999         San Antonio Spurs    4–1      5             Tim Duncan\n",
       "2000        Los Angeles Lakers    4–2      6       Shaquille O'Neal\n",
       "2001        Los Angeles Lakers    4–1      5       Shaquille O'Neal\n",
       "2002        Los Angeles Lakers    4–0      4       Shaquille O'Neal\n",
       "2003         San Antonio Spurs    4–2      6             Tim Duncan\n",
       "2004           Detroit Pistons    4–1      5       Chauncey Billups\n",
       "2005         San Antonio Spurs    4–3      7             Tim Duncan\n",
       "2006                Miami Heat    4–2      6            Dwyane Wade\n",
       "2007         San Antonio Spurs    4–0      4            Tony Parker\n",
       "2008            Boston Celtics    4–2      6            Paul Pierce\n",
       "2009        Los Angeles Lakers    4–1      5            Kobe Bryant\n",
       "2010        Los Angeles Lakers    4–3      7            Kobe Bryant\n",
       "2011          Dallas Mavericks    4–2      6          Dirk Nowitzki\n",
       "2012                Miami Heat    4–1      5           LeBron James\n",
       "2013                Miami Heat    4–3      7           LeBron James\n",
       "2014         San Antonio Spurs    4–1      5          Kawhi Leonard\n",
       "2015     Golden State Warriors    4–2      6         Andre Iguodala\n",
       "2016       Cleveland Cavaliers    4–3      7           LeBron James\n",
       "2017     Golden State Warriors    4–1      5           Kevin Durant\n",
       "2018     Golden State Warriors    4–0      4           Kevin Durant\n",
       "2019           Toronto Raptors    4–2      6          Kawhi Leonard\n",
       "2020        Los Angeles Lakers    4–2      6           LeBron James\n",
       "2021           Milwaukee Bucks    4–2      6  Giannis Antetokounmpo"
      ]
     },
     "execution_count": 99,
     "metadata": {},
     "output_type": "execute_result"
    }
   ],
   "source": [
    "Final_history = pd.read_csv('Finals_record.csv')\n",
    "Final_history = Final_history.set_index('Season')\n",
    "Final_history"
   ]
  },
  {
   "cell_type": "markdown",
   "metadata": {},
   "source": [
    "## Models\n",
    "\n",
    "```Model 1```\n",
    "- there is one parameter (theta) which is the chance of the Golden State Warriors winning a game\n",
    "\n",
    "- the data that will be used in this model is from the previous matchups between these two teams\n",
    "\n",
    "- the model uses bernoulli distribution to calcuate the probability of the Golden State Warriors winning and losing one game\n",
    "\n",
    "```Model 2```\n",
    "- one additional parameter will be added (alpha) which is the number of games needed to win 4 games\n",
    "\n",
    "- one additional data that will be used in this model is from the NBA finals history record\n",
    "\n",
    "- the model also uses binomial distribution as the team has to win 4 out of 'alpha' games"
   ]
  },
  {
   "cell_type": "markdown",
   "metadata": {},
   "source": [
    "## Prior Predictive Checks - Model 1\n",
    "```theta```\n",
    "- At first we would guess that any chance would be possible (uniform distribution)\n",
    "\n",
    "- However according to their 82 games records throughout the whole season, Golden State Warriors has a winning percentage of 64.6% and Boston Celtics has 62.2%\n",
    "\n",
    "- And also according to their playoff performance so far, Golden State Warriors has a winning percentage of 75% and Boston Celtics has 67%\n",
    "\n",
    "- Therefore we are guessing the Golden State Warriors will have a slightly higher chance compared to the Boston Celtics like 65/35\n",
    "\n",
    "- We use the beta distribution as the prior of this parameter with 𝛼 = 6.5 and 𝛽 = 3.5"
   ]
  },
  {
   "cell_type": "code",
   "execution_count": 6,
   "metadata": {},
   "outputs": [
    {
     "name": "stdout",
     "output_type": "stream",
     "text": [
      "generated quantities {\n",
      "   real theta = beta_rng(6.5,3.5);\n",
      "   real y = bernoulli_rng(theta);\n",
      "}\n"
     ]
    }
   ],
   "source": [
    "with open ('model_1_ppc.stan', 'r') as file:\n",
    "    print(file.read())"
   ]
  },
  {
   "cell_type": "code",
   "execution_count": 45,
   "metadata": {},
   "outputs": [
    {
     "name": "stderr",
     "output_type": "stream",
     "text": [
      "INFO:cmdstanpy:found newer exe file, not recompiling\n",
      "INFO:cmdstanpy:CmdStan start processing\n"
     ]
    },
    {
     "data": {
      "application/vnd.jupyter.widget-view+json": {
       "model_id": "d6e5b18938414af3a30d14c52b345219",
       "version_major": 2,
       "version_minor": 0
      },
      "text/plain": [
       "chain 1 |          | 00:00 Status"
      ]
     },
     "metadata": {},
     "output_type": "display_data"
    },
    {
     "data": {
      "application/vnd.jupyter.widget-view+json": {
       "model_id": "6db71a4e55864079ad17f8c1e84e386b",
       "version_major": 2,
       "version_minor": 0
      },
      "text/plain": [
       "chain 2 |          | 00:00 Status"
      ]
     },
     "metadata": {},
     "output_type": "display_data"
    },
    {
     "data": {
      "application/vnd.jupyter.widget-view+json": {
       "model_id": "36f4bb98e9054ab7b387ae4b83e4d412",
       "version_major": 2,
       "version_minor": 0
      },
      "text/plain": [
       "chain 3 |          | 00:00 Status"
      ]
     },
     "metadata": {},
     "output_type": "display_data"
    },
    {
     "data": {
      "application/vnd.jupyter.widget-view+json": {
       "model_id": "6deb89ed69dc4c938941724bc47409af",
       "version_major": 2,
       "version_minor": 0
      },
      "text/plain": [
       "chain 4 |          | 00:00 Status"
      ]
     },
     "metadata": {},
     "output_type": "display_data"
    },
    {
     "name": "stdout",
     "output_type": "stream",
     "text": [
      "                                                                                                                                                                                                                                                                                                                                "
     ]
    },
    {
     "name": "stderr",
     "output_type": "stream",
     "text": [
      "INFO:cmdstanpy:CmdStan done processing.\n"
     ]
    },
    {
     "name": "stdout",
     "output_type": "stream",
     "text": [
      "\n"
     ]
    }
   ],
   "source": [
    "model_1_ppc = CmdStanModel(stan_file='model_1_ppc.stan')\n",
    "\n",
    "model_1_ppc_result = model_1_ppc.sample(iter_sampling=1000,\n",
    "                        iter_warmup=0,\n",
    "                        chains=4,\n",
    "                        fixed_param=True)\n",
    "\n",
    "model_1_ppc_df = model_1_ppc_result.draws_pd()"
   ]
  },
  {
   "cell_type": "code",
   "execution_count": 23,
   "metadata": {},
   "outputs": [
    {
     "name": "stdout",
     "output_type": "stream",
     "text": [
      "Mean of theta prior = 0.650776127\n",
      "Mean of y prior = 0.6465\n"
     ]
    },
    {
     "data": {
      "image/png": "[encoded data removed]",
      "text/plain": [
       "<Figure size 1200x640 with 4 Axes>"
      ]
     },
     "metadata": {
      "needs_background": "light"
     },
     "output_type": "display_data"
    }
   ],
   "source": [
    "theta_prior = model_1_ppc_result.stan_variable('theta')\n",
    "y_prior = model_1_ppc_result.stan_variable('y')\n",
    "\n",
    "figure(figsize=(15, 8), dpi=80)\n",
    "\n",
    "plt.subplot(2, 2, 1)\n",
    "plt.hist(theta_prior, bins = 20)\n",
    "plt.title('theta_prior')\n",
    "\n",
    "plt.subplot(2, 2, 2)\n",
    "plt.hist(y_prior, bins = 15)\n",
    "plt.title('y_prior')\n",
    "\n",
    "plt.subplot(2, 2, 3)\n",
    "sns.kdeplot(theta_prior, shade = True)\n",
    "plt.title('theta_prior')\n",
    "\n",
    "plt.subplot(2, 2, 4)\n",
    "sns.kdeplot(y_prior, shade = True)\n",
    "plt.title('y_prior')\n",
    "\n",
    "print(\"Mean of theta prior = \" + str(theta_prior.mean()))\n",
    "print(\"Mean of y prior = \" + str(y_prior.mean()))"
   ]
  },
  {
   "cell_type": "markdown",
   "metadata": {},
   "source": [
    "### Comments on Prior Predictive Check for Model 1\n",
    "\n",
    "From the graphs and mean values shown above, we can see that:\n",
    "\n",
    "- the parameter (theta) that is simulated from the prior we selected makes sense as we want the chance of Golden State Warriors to win to be 65% and we have here the mean value of theta_prior is 0.65\n",
    "\n",
    "- the measurement (y) that is simulated from the prior we selected also make sense as we can see that the Golden State Warriors has higher density in winning (1) than losing (0) with the mean value of y_measure is 0.646"
   ]
  },
  {
   "cell_type": "markdown",
   "metadata": {},
   "source": [
    "## Posterior Analysis - Model 1"
   ]
  },
  {
   "cell_type": "code",
   "execution_count": 50,
   "metadata": {},
   "outputs": [
    {
     "name": "stderr",
     "output_type": "stream",
     "text": [
      "INFO:cmdstanpy:found newer exe file, not recompiling\n",
      "INFO:cmdstanpy:CmdStan start processing\n"
     ]
    },
    {
     "data": {
      "application/vnd.jupyter.widget-view+json": {
       "model_id": "bb70adb1e81b45198a36500a3ee217d1",
       "version_major": 2,
       "version_minor": 0
      },
      "text/plain": [
       "chain 1 |          | 00:00 Status"
      ]
     },
     "metadata": {},
     "output_type": "display_data"
    },
    {
     "data": {
      "application/vnd.jupyter.widget-view+json": {
       "model_id": "e6f92014a26e4e88ae2887d8a97333f6",
       "version_major": 2,
       "version_minor": 0
      },
      "text/plain": [
       "chain 2 |          | 00:00 Status"
      ]
     },
     "metadata": {},
     "output_type": "display_data"
    },
    {
     "data": {
      "application/vnd.jupyter.widget-view+json": {
       "model_id": "e2cce96b10c64357b105560ed35881cd",
       "version_major": 2,
       "version_minor": 0
      },
      "text/plain": [
       "chain 3 |          | 00:00 Status"
      ]
     },
     "metadata": {},
     "output_type": "display_data"
    },
    {
     "data": {
      "application/vnd.jupyter.widget-view+json": {
       "model_id": "0462f020aed142af8647d70aea2d8b78",
       "version_major": 2,
       "version_minor": 0
      },
      "text/plain": [
       "chain 4 |          | 00:00 Status"
      ]
     },
     "metadata": {},
     "output_type": "display_data"
    },
    {
     "name": "stdout",
     "output_type": "stream",
     "text": [
      "                                                                                                                                                                                                                                                                                                                                "
     ]
    },
    {
     "name": "stderr",
     "output_type": "stream",
     "text": [
      "INFO:cmdstanpy:CmdStan done processing.\n"
     ]
    },
    {
     "name": "stdout",
     "output_type": "stream",
     "text": [
      "\n"
     ]
    }
   ],
   "source": [
    "model_1 = CmdStanModel(stan_file = 'model_1.stan')\n",
    "model_1_fit = model_1.sample(data = {'N': len(Matchup_Warriors), 'y1': Matchup_Warriors})"
   ]
  },
  {
   "cell_type": "code",
   "execution_count": 49,
   "metadata": {},
   "outputs": [
    {
     "name": "stdout",
     "output_type": "stream",
     "text": [
      "Mean of theta model 1 = 0.6234085582500001\n",
      "Mean of y model 1 = 0.625\n"
     ]
    },
    {
     "data": {
      "image/png": "[encoded data removed]",
      "text/plain": [
       "<Figure size 1200x640 with 4 Axes>"
      ]
     },
     "metadata": {
      "needs_background": "light"
     },
     "output_type": "display_data"
    }
   ],
   "source": [
    "theta_model_1 = model_1_fit.stan_variable('theta')\n",
    "y_model_1 = model_1_fit.stan_variable('y')\n",
    "\n",
    "figure(figsize=(15, 8), dpi=80)\n",
    "\n",
    "plt.subplot(2, 2, 1)\n",
    "plt.hist(theta_model_1, bins = 15)\n",
    "plt.title('theta_model_1')\n",
    "\n",
    "plt.subplot(2, 2, 2)\n",
    "plt.hist(y_model_1, bins = 15)\n",
    "plt.title('y_model_1')\n",
    "\n",
    "plt.subplot(2, 2, 3)\n",
    "sns.kdeplot(theta_prior)\n",
    "sns.kdeplot(theta_model_1)\n",
    "plt.legend(['theta_prior', 'theta_model'])\n",
    "plt.title('Comparison theta')\n",
    "\n",
    "plt.subplot(2, 2, 4)\n",
    "sns.kdeplot(y_prior)\n",
    "sns.kdeplot(y_model_1)\n",
    "plt.legend(['theta_prior', 'theta_model'])\n",
    "plt.title('Comparison y')\n",
    "\n",
    "print(\"Mean of theta model 1 = \" + str(theta_model_1.mean()))\n",
    "print(\"Mean of y model 1 = \" + str(y_model_1.mean()))"
   ]
  },
  {
   "cell_type": "markdown",
   "metadata": {},
   "source": [
    "### Comments on Posterior Analysis on Model 1\n",
    "\n",
    "From the graphs and mean values shown above, we can see that:\n",
    "\n",
    "- After adding the data of previous matchups between Golden State Warriors and Boston Celtics, the parameter (theta) shifted to the left and the mean value of theta_model_1 is 0.625\n",
    "\n",
    "- This is because there are only two matches in the data and the Golden State Warriors won 1 and lost 1 which is 50%\n",
    "\n",
    "- The density of y in winning (1) also decreases and losing (0) increases, it makes sense because the parameter (theta) which is the chance of winning decreases"
   ]
  },
  {
   "cell_type": "markdown",
   "metadata": {},
   "source": [
    "## Prior Predictive Check - Model 2\n",
    "```theta```\n",
    "- At first we would guess that any chance would be possible (uniform distribution)\n",
    "\n",
    "- However according to their 82 games records throughout the whole season, Golden State Warriors has a winning percentage of 64.6% and Boston Celtics has 62.2%\n",
    "\n",
    "- And also according to their playoff performance so far, Golden State Warriors has a winning percentage of 75% and Boston Celtics has 67%\n",
    "\n",
    "- Therefore we are guessing the Golden State Warriors will have a slightly higher chance compared to the Boston Celtics like 65/35\n",
    "\n",
    "- We use the beta distribution as the prior of this parameter with 𝛼 = 6.5 and 𝛽 = 3.5"
   ]
  }
 ],
 "metadata": {
  "interpreter": {
   "hash": "3acfd0d212cedc42c609187b82261e631eac706397bd7c45c61d4d9ddc6b7198"
  },
  "kernelspec": {
   "display_name": "Python 3 (ipykernel)",
   "language": "python",
   "name": "python3"
  },
  "language_info": {
   "codemirror_mode": {
    "name": "ipython",
    "version": 3
   },
   "file_extension": ".py",
   "mimetype": "text/x-python",
   "name": "python",
   "nbconvert_exporter": "python",
   "pygments_lexer": "ipython3",
   "version": "3.9.12"
  }
 },
 "nbformat": 4,
 "nbformat_minor": 2
}
