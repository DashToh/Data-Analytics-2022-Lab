{
 "cells": [
  {
   "cell_type": "markdown",
   "metadata": {},
   "source": [
    "# NBA 2022 Champion\n",
    "## NBA league\n",
    "<ul>\n",
    "<li> There are 30 teams in the NBA league and they are divided into East and West Conference (15 teams on each)\n",
    "<li> Each team will play 82 matches in total throughout the entire season\n",
    "<li> The top 8 teams from each conference will advance to the playoff according to their win-lose record (the picture below shows the playoff tree)\n",
    "<li> Each series will be held in the form of best of 7\n",
    "</ul>"
   ]
  },
  {
   "cell_type": "markdown",
   "metadata": {},
   "source": [
    "<img src= \"NBA2022_Playoff(1).png\">"
   ]
  },
  {
   "cell_type": "markdown",
   "metadata": {},
   "source": [
    "## Task\n",
    "<ul>\n",
    "<li> There are 4 teams left currently in this NBA playoff, 2 from each conference <br>\n",
    "<li> Our task will be calculating the probability of winning the championship for these 4 teams <br>\n",
    "\n",
    "<li> We need to consider the following points: <br>\n",
    "    - the previous matchups between each teams during the season <br>\n",
    "    - the 82 games win/lose record for each teams <br>\n",
    "    - the teams' performance during the playoff until the current stage <br>\n",
    "<ul>"
   ]
  },
  {
   "cell_type": "markdown",
   "metadata": {},
   "source": []
  },
  {
   "cell_type": "code",
   "execution_count": 7,
   "metadata": {},
   "outputs": [
    {
     "data": {
      "text/html": [
       "<div>\n",
       "<style scoped>\n",
       "    .dataframe tbody tr th:only-of-type {\n",
       "        vertical-align: middle;\n",
       "    }\n",
       "\n",
       "    .dataframe tbody tr th {\n",
       "        vertical-align: top;\n",
       "    }\n",
       "\n",
       "    .dataframe thead th {\n",
       "        text-align: right;\n",
       "    }\n",
       "</style>\n",
       "<table border=\"1\" class=\"dataframe\">\n",
       "  <thead>\n",
       "    <tr style=\"text-align: right;\">\n",
       "      <th></th>\n",
       "      <th>Date</th>\n",
       "      <th>Teams</th>\n",
       "      <th>Score</th>\n",
       "      <th>Warriors</th>\n",
       "      <th>Mavericks</th>\n",
       "    </tr>\n",
       "    <tr>\n",
       "      <th>Match</th>\n",
       "      <th></th>\n",
       "      <th></th>\n",
       "      <th></th>\n",
       "      <th></th>\n",
       "      <th></th>\n",
       "    </tr>\n",
       "  </thead>\n",
       "  <tbody>\n",
       "    <tr>\n",
       "      <th>1</th>\n",
       "      <td>06/01/2022</td>\n",
       "      <td>Mavericks  - Warriors</td>\n",
       "      <td>99 - 82</td>\n",
       "      <td>0</td>\n",
       "      <td>1</td>\n",
       "    </tr>\n",
       "    <tr>\n",
       "      <th>2</th>\n",
       "      <td>26/01/2022</td>\n",
       "      <td>Warriors - Mavericks</td>\n",
       "      <td>130 - 92</td>\n",
       "      <td>1</td>\n",
       "      <td>0</td>\n",
       "    </tr>\n",
       "    <tr>\n",
       "      <th>3</th>\n",
       "      <td>28/02/2022</td>\n",
       "      <td>Warriors - Mavericks</td>\n",
       "      <td>101 - 107</td>\n",
       "      <td>0</td>\n",
       "      <td>1</td>\n",
       "    </tr>\n",
       "    <tr>\n",
       "      <th>4</th>\n",
       "      <td>04/03/2022</td>\n",
       "      <td>Mavericks  - Warriors</td>\n",
       "      <td>122 - 113</td>\n",
       "      <td>0</td>\n",
       "      <td>1</td>\n",
       "    </tr>\n",
       "    <tr>\n",
       "      <th>5</th>\n",
       "      <td>19/05/2022</td>\n",
       "      <td>Warriors - Mavericks</td>\n",
       "      <td>112 - 87</td>\n",
       "      <td>1</td>\n",
       "      <td>0</td>\n",
       "    </tr>\n",
       "    <tr>\n",
       "      <th>6</th>\n",
       "      <td>21/05/2022</td>\n",
       "      <td>Warriors - Mavericks</td>\n",
       "      <td>126 - 117</td>\n",
       "      <td>1</td>\n",
       "      <td>0</td>\n",
       "    </tr>\n",
       "    <tr>\n",
       "      <th>7</th>\n",
       "      <td>23/05/2022</td>\n",
       "      <td>Mavericks  - Warriors</td>\n",
       "      <td>100 - 109</td>\n",
       "      <td>1</td>\n",
       "      <td>0</td>\n",
       "    </tr>\n",
       "  </tbody>\n",
       "</table>\n",
       "</div>"
      ],
      "text/plain": [
       "             Date                  Teams      Score  Warriors  Mavericks\n",
       "Match                                                                   \n",
       "1      06/01/2022  Mavericks  - Warriors    99 - 82         0          1\n",
       "2      26/01/2022   Warriors - Mavericks   130 - 92         1          0\n",
       "3      28/02/2022   Warriors - Mavericks  101 - 107         0          1\n",
       "4      04/03/2022  Mavericks  - Warriors  122 - 113         0          1\n",
       "5      19/05/2022   Warriors - Mavericks   112 - 87         1          0\n",
       "6      21/05/2022   Warriors - Mavericks  126 - 117         1          0\n",
       "7      23/05/2022  Mavericks  - Warriors  100 - 109         1          0"
      ]
     },
     "execution_count": 7,
     "metadata": {},
     "output_type": "execute_result"
    }
   ],
   "source": [
    "import pandas as pd\n",
    "\n",
    "df = pd.read_csv('Warriors_Mavericks.csv')\n",
    "df = df.set_index('Match')\n",
    "df"
   ]
  },
  {
   "cell_type": "code",
   "execution_count": 15,
   "metadata": {},
   "outputs": [],
   "source": [
    "from cmdstanpy import CmdStanModel\n",
    "import arviz as az\n",
    "import numpy as np\n",
    "import scipy.stats as stats\n",
    "import pandas as pd\n",
    "import statistics as s \n",
    "\n",
    "import matplotlib.pyplot as plt\n",
    "import matplotlib as mpl"
   ]
  },
  {
   "cell_type": "code",
   "execution_count": 14,
   "metadata": {},
   "outputs": [],
   "source": [
    "Warriors_N = df['Warriors'].count()\n",
    "Warriors_y = df['Warriors']"
   ]
  },
  {
   "cell_type": "code",
   "execution_count": 17,
   "metadata": {},
   "outputs": [
    {
     "name": "stderr",
     "output_type": "stream",
     "text": [
      "INFO:cmdstanpy:found newer exe file, not recompiling\n",
      "INFO:cmdstanpy:CmdStan start processing\n"
     ]
    },
    {
     "data": {
      "application/vnd.jupyter.widget-view+json": {
       "model_id": "8640588dea8b42d590f963813490b666",
       "version_major": 2,
       "version_minor": 0
      },
      "text/plain": [
       "chain 1 |          | 00:00 Status"
      ]
     },
     "metadata": {},
     "output_type": "display_data"
    },
    {
     "data": {
      "application/vnd.jupyter.widget-view+json": {
       "model_id": "54eb631259aa46feae9fb77f3112a372",
       "version_major": 2,
       "version_minor": 0
      },
      "text/plain": [
       "chain 2 |          | 00:00 Status"
      ]
     },
     "metadata": {},
     "output_type": "display_data"
    },
    {
     "data": {
      "application/vnd.jupyter.widget-view+json": {
       "model_id": "1c8c520679c84011a7d61dc74bebe439",
       "version_major": 2,
       "version_minor": 0
      },
      "text/plain": [
       "chain 3 |          | 00:00 Status"
      ]
     },
     "metadata": {},
     "output_type": "display_data"
    },
    {
     "data": {
      "application/vnd.jupyter.widget-view+json": {
       "model_id": "ca96b29b85404cde9786f3cf104187d9",
       "version_major": 2,
       "version_minor": 0
      },
      "text/plain": [
       "chain 4 |          | 00:00 Status"
      ]
     },
     "metadata": {},
     "output_type": "display_data"
    },
    {
     "name": "stdout",
     "output_type": "stream",
     "text": [
      "                                                                                                                                                                                                                                                                                                                                "
     ]
    },
    {
     "name": "stderr",
     "output_type": "stream",
     "text": [
      "INFO:cmdstanpy:CmdStan done processing.\n"
     ]
    },
    {
     "name": "stdout",
     "output_type": "stream",
     "text": [
      "\n"
     ]
    }
   ],
   "source": [
    "code1 = CmdStanModel(stan_file='Teams.stan')\n",
    "data1 = code1.sample(data={'N': Warriors_N, 'y':Warriors_y})"
   ]
  },
  {
   "cell_type": "code",
   "execution_count": 18,
   "metadata": {},
   "outputs": [
    {
     "data": {
      "text/html": [
       "<div>\n",
       "<style scoped>\n",
       "    .dataframe tbody tr th:only-of-type {\n",
       "        vertical-align: middle;\n",
       "    }\n",
       "\n",
       "    .dataframe tbody tr th {\n",
       "        vertical-align: top;\n",
       "    }\n",
       "\n",
       "    .dataframe thead th {\n",
       "        text-align: right;\n",
       "    }\n",
       "</style>\n",
       "<table border=\"1\" class=\"dataframe\">\n",
       "  <thead>\n",
       "    <tr style=\"text-align: right;\">\n",
       "      <th></th>\n",
       "      <th>lp__</th>\n",
       "      <th>accept_stat__</th>\n",
       "      <th>stepsize__</th>\n",
       "      <th>treedepth__</th>\n",
       "      <th>n_leapfrog__</th>\n",
       "      <th>divergent__</th>\n",
       "      <th>energy__</th>\n",
       "      <th>theta</th>\n",
       "    </tr>\n",
       "  </thead>\n",
       "  <tbody>\n",
       "    <tr>\n",
       "      <th>0</th>\n",
       "      <td>-6.28041</td>\n",
       "      <td>0.863722</td>\n",
       "      <td>0.975467</td>\n",
       "      <td>2.0</td>\n",
       "      <td>3.0</td>\n",
       "      <td>0.0</td>\n",
       "      <td>7.03875</td>\n",
       "      <td>0.543630</td>\n",
       "    </tr>\n",
       "    <tr>\n",
       "      <th>1</th>\n",
       "      <td>-6.24764</td>\n",
       "      <td>0.807944</td>\n",
       "      <td>0.975467</td>\n",
       "      <td>2.0</td>\n",
       "      <td>3.0</td>\n",
       "      <td>0.0</td>\n",
       "      <td>7.48285</td>\n",
       "      <td>0.495911</td>\n",
       "    </tr>\n",
       "    <tr>\n",
       "      <th>2</th>\n",
       "      <td>-6.23232</td>\n",
       "      <td>0.972059</td>\n",
       "      <td>0.975467</td>\n",
       "      <td>2.0</td>\n",
       "      <td>3.0</td>\n",
       "      <td>0.0</td>\n",
       "      <td>6.41083</td>\n",
       "      <td>0.526038</td>\n",
       "    </tr>\n",
       "    <tr>\n",
       "      <th>3</th>\n",
       "      <td>-6.23232</td>\n",
       "      <td>0.714551</td>\n",
       "      <td>0.975467</td>\n",
       "      <td>1.0</td>\n",
       "      <td>3.0</td>\n",
       "      <td>0.0</td>\n",
       "      <td>7.40116</td>\n",
       "      <td>0.526038</td>\n",
       "    </tr>\n",
       "    <tr>\n",
       "      <th>4</th>\n",
       "      <td>-6.60030</td>\n",
       "      <td>0.914965</td>\n",
       "      <td>0.975467</td>\n",
       "      <td>1.0</td>\n",
       "      <td>3.0</td>\n",
       "      <td>0.0</td>\n",
       "      <td>6.63663</td>\n",
       "      <td>0.589094</td>\n",
       "    </tr>\n",
       "    <tr>\n",
       "      <th>...</th>\n",
       "      <td>...</td>\n",
       "      <td>...</td>\n",
       "      <td>...</td>\n",
       "      <td>...</td>\n",
       "      <td>...</td>\n",
       "      <td>...</td>\n",
       "      <td>...</td>\n",
       "      <td>...</td>\n",
       "    </tr>\n",
       "    <tr>\n",
       "      <th>3995</th>\n",
       "      <td>-6.72875</td>\n",
       "      <td>0.913982</td>\n",
       "      <td>0.924135</td>\n",
       "      <td>1.0</td>\n",
       "      <td>1.0</td>\n",
       "      <td>0.0</td>\n",
       "      <td>6.72892</td>\n",
       "      <td>0.600807</td>\n",
       "    </tr>\n",
       "    <tr>\n",
       "      <th>3996</th>\n",
       "      <td>-6.84524</td>\n",
       "      <td>0.991297</td>\n",
       "      <td>0.924135</td>\n",
       "      <td>2.0</td>\n",
       "      <td>3.0</td>\n",
       "      <td>0.0</td>\n",
       "      <td>6.94049</td>\n",
       "      <td>0.610178</td>\n",
       "    </tr>\n",
       "    <tr>\n",
       "      <th>3997</th>\n",
       "      <td>-7.13952</td>\n",
       "      <td>0.979366</td>\n",
       "      <td>0.924135</td>\n",
       "      <td>2.0</td>\n",
       "      <td>3.0</td>\n",
       "      <td>0.0</td>\n",
       "      <td>7.22319</td>\n",
       "      <td>0.630461</td>\n",
       "    </tr>\n",
       "    <tr>\n",
       "      <th>3998</th>\n",
       "      <td>-7.12193</td>\n",
       "      <td>1.000000</td>\n",
       "      <td>0.924135</td>\n",
       "      <td>1.0</td>\n",
       "      <td>1.0</td>\n",
       "      <td>0.0</td>\n",
       "      <td>7.34078</td>\n",
       "      <td>0.629352</td>\n",
       "    </tr>\n",
       "    <tr>\n",
       "      <th>3999</th>\n",
       "      <td>-6.80362</td>\n",
       "      <td>0.888470</td>\n",
       "      <td>0.924135</td>\n",
       "      <td>1.0</td>\n",
       "      <td>3.0</td>\n",
       "      <td>0.0</td>\n",
       "      <td>8.51012</td>\n",
       "      <td>0.422556</td>\n",
       "    </tr>\n",
       "  </tbody>\n",
       "</table>\n",
       "<p>4000 rows × 8 columns</p>\n",
       "</div>"
      ],
      "text/plain": [
       "         lp__  accept_stat__  stepsize__  treedepth__  n_leapfrog__  \\\n",
       "0    -6.28041       0.863722    0.975467          2.0           3.0   \n",
       "1    -6.24764       0.807944    0.975467          2.0           3.0   \n",
       "2    -6.23232       0.972059    0.975467          2.0           3.0   \n",
       "3    -6.23232       0.714551    0.975467          1.0           3.0   \n",
       "4    -6.60030       0.914965    0.975467          1.0           3.0   \n",
       "...       ...            ...         ...          ...           ...   \n",
       "3995 -6.72875       0.913982    0.924135          1.0           1.0   \n",
       "3996 -6.84524       0.991297    0.924135          2.0           3.0   \n",
       "3997 -7.13952       0.979366    0.924135          2.0           3.0   \n",
       "3998 -7.12193       1.000000    0.924135          1.0           1.0   \n",
       "3999 -6.80362       0.888470    0.924135          1.0           3.0   \n",
       "\n",
       "      divergent__  energy__     theta  \n",
       "0             0.0   7.03875  0.543630  \n",
       "1             0.0   7.48285  0.495911  \n",
       "2             0.0   6.41083  0.526038  \n",
       "3             0.0   7.40116  0.526038  \n",
       "4             0.0   6.63663  0.589094  \n",
       "...           ...       ...       ...  \n",
       "3995          0.0   6.72892  0.600807  \n",
       "3996          0.0   6.94049  0.610178  \n",
       "3997          0.0   7.22319  0.630461  \n",
       "3998          0.0   7.34078  0.629352  \n",
       "3999          0.0   8.51012  0.422556  \n",
       "\n",
       "[4000 rows x 8 columns]"
      ]
     },
     "execution_count": 18,
     "metadata": {},
     "output_type": "execute_result"
    }
   ],
   "source": [
    "d = data1.draws_pd()\n",
    "d"
   ]
  },
  {
   "cell_type": "code",
   "execution_count": 19,
   "metadata": {},
   "outputs": [
    {
     "data": {
      "text/plain": [
       "(array([  8.,  10.,  28.,  49., 119., 220., 273., 387., 512., 522., 460.,\n",
       "        445., 343., 267., 170., 104.,  45.,  28.,   8.,   2.]),\n",
       " array([0.238202 , 0.2666476, 0.2950932, 0.3235388, 0.3519844, 0.38043  ,\n",
       "        0.4088756, 0.4373212, 0.4657668, 0.4942124, 0.522658 , 0.5511036,\n",
       "        0.5795492, 0.6079948, 0.6364404, 0.664886 , 0.6933316, 0.7217772,\n",
       "        0.7502228, 0.7786684, 0.807114 ]),\n",
       " <BarContainer object of 20 artists>)"
      ]
     },
     "execution_count": 19,
     "metadata": {},
     "output_type": "execute_result"
    },
    {
     "data": {
      "image/png": "[encoded data removed]",
      "text/plain": [
       "<Figure size 432x288 with 1 Axes>"
      ]
     },
     "metadata": {
      "needs_background": "light"
     },
     "output_type": "display_data"
    }
   ],
   "source": [
    "theta = data1.stan_variable('theta')\n",
    "plt.hist(theta, bins=20)"
   ]
  },
  {
   "cell_type": "code",
   "execution_count": null,
   "metadata": {},
   "outputs": [],
   "source": []
  }
 ],
 "metadata": {
  "interpreter": {
   "hash": "3acfd0d212cedc42c609187b82261e631eac706397bd7c45c61d4d9ddc6b7198"
  },
  "kernelspec": {
   "display_name": "Python 3 (ipykernel)",
   "language": "python",
   "name": "python3"
  },
  "language_info": {
   "codemirror_mode": {
    "name": "ipython",
    "version": 3
   },
   "file_extension": ".py",
   "mimetype": "text/x-python",
   "name": "python",
   "nbconvert_exporter": "python",
   "pygments_lexer": "ipython3",
   "version": "3.9.12"
  }
 },
 "nbformat": 4,
 "nbformat_minor": 2
}
