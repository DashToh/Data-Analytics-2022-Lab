{
 "cells": [
  {
   "cell_type": "markdown",
   "metadata": {},
   "source": [
    "# NBA 2022 Champion\n",
    "## NBA league\n",
    "<ul>\n",
    "<li> There are 30 teams in the NBA league and they are divided into East and West Conference (15 teams on each)\n",
    "<li> Each team will play 82 matches in total throughout the entire season\n",
    "<li> The top 8 teams from each conference will advance to the playoff according to their win-lose record (the picture below shows the playoff tree)\n",
    "<li> Each series will be held in the form of best of 7\n",
    "</ul>"
   ]
  },
  {
   "cell_type": "markdown",
   "metadata": {},
   "source": [
    "<img src= \"NBA2022_Playoff.png\">"
   ]
  },
  {
   "cell_type": "markdown",
   "metadata": {},
   "source": [
    "## Task\n",
    "<ul>\n",
    "<li> There are 4 teams left currently in this NBA playoff, 2 from each conference\n",
    "<li> Our task will be calculating the probability of winning the championship for these 4 teams\n",
    "<ul>"
   ]
  }
 ],
 "metadata": {
  "interpreter": {
   "hash": "3acfd0d212cedc42c609187b82261e631eac706397bd7c45c61d4d9ddc6b7198"
  },
  "kernelspec": {
   "display_name": "Python 3 (ipykernel)",
   "language": "python",
   "name": "python3"
  },
  "language_info": {
   "codemirror_mode": {
    "name": "ipython",
    "version": 3
   },
   "file_extension": ".py",
   "mimetype": "text/x-python",
   "name": "python",
   "nbconvert_exporter": "python",
   "pygments_lexer": "ipython3",
   "version": "3.9.12"
  }
 },
 "nbformat": 4,
 "nbformat_minor": 2
}
