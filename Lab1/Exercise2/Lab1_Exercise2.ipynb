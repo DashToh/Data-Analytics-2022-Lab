{
 "cells": [
  {
   "cell_type": "markdown",
   "id": "b9edefd2",
   "metadata": {},
   "source": [
    "# Excercise 2\n",
    "\n",
    "Installation of [```cmdstanpy```](https://cmdstanpy.readthedocs.io/en/v0.9.68/index.html)\n",
    "1. Install ```cmdstanpy``` package\n",
    "2. Install cmdstan\n",
    "2. Create a dataset (as a dictionary) of F+L binary samples with F zeros and L ones, with F=number of letters in first name, L=number of letters in last name. Dictionary needs to consist of N=F+L, and y = list of samples.\n",
    "3. Create a cmdstanpy model from ```bern_1.stan``` code provided.\n",
    "4. Sample from the model using the dataset and ```.sample()``` method\n",
    "5. Extract $\\theta$ variable and create its histogram.\n",
    "6. Using ```.summary()``` method get mean, median and 5% and 95% quantiles of theta, and mark them on the histogram."
   ]
  },
  {
   "cell_type": "code",
   "execution_count": 5,
   "id": "2f25d8a5",
   "metadata": {
    "scrolled": true
   },
   "outputs": [
    {
     "name": "stderr",
     "output_type": "stream",
     "text": [
      "INFO:cmdstanpy:found newer exe file, not recompiling\n",
      "INFO:cmdstanpy:CmdStan start processing\n"
     ]
    },
    {
     "data": {
      "application/vnd.jupyter.widget-view+json": {
       "model_id": "81ca08d839814340a28900bc7b5a3133",
       "version_major": 2,
       "version_minor": 0
      },
      "text/plain": [
       "chain 1 |          | 00:00 Status"
      ]
     },
     "metadata": {},
     "output_type": "display_data"
    },
    {
     "data": {
      "application/vnd.jupyter.widget-view+json": {
       "model_id": "407313b174a74bbd8449cade74babd16",
       "version_major": 2,
       "version_minor": 0
      },
      "text/plain": [
       "chain 2 |          | 00:00 Status"
      ]
     },
     "metadata": {},
     "output_type": "display_data"
    },
    {
     "data": {
      "application/vnd.jupyter.widget-view+json": {
       "model_id": "dabd1158af054f87bc24a2d5ee10e425",
       "version_major": 2,
       "version_minor": 0
      },
      "text/plain": [
       "chain 3 |          | 00:00 Status"
      ]
     },
     "metadata": {},
     "output_type": "display_data"
    },
    {
     "data": {
      "application/vnd.jupyter.widget-view+json": {
       "model_id": "a9f5acab5251444f8df2db6d0cc58217",
       "version_major": 2,
       "version_minor": 0
      },
      "text/plain": [
       "chain 4 |          | 00:00 Status"
      ]
     },
     "metadata": {},
     "output_type": "display_data"
    },
    {
     "name": "stdout",
     "output_type": "stream",
     "text": [
      "                                                                                                                                                                                                                                                                                                                                "
     ]
    },
    {
     "name": "stderr",
     "output_type": "stream",
     "text": [
      "INFO:cmdstanpy:CmdStan done processing.\n"
     ]
    },
    {
     "name": "stdout",
     "output_type": "stream",
     "text": [
      "\n"
     ]
    }
   ],
   "source": [
    "import os\n",
    "import numpy as np\n",
    "import matplotlib.pyplot as plt\n",
    "from cmdstanpy import CmdStanModel\n",
    "\n",
    "bernoulli_model = CmdStanModel(stan_file = 'bern_1.stan')\n",
    "bern_fit = bernoulli_model.sample(data = 'bern_1.data.json')"
   ]
  },
  {
   "cell_type": "code",
   "execution_count": 6,
   "id": "cf29ceba",
   "metadata": {},
   "outputs": [
    {
     "data": {
      "text/plain": [
       "(array([ 32.,  95., 173., 283., 363., 434., 444., 495., 402., 381., 286.,\n",
       "        216., 135., 105.,  67.,  39.,  27.,  13.,   8.,   2.]),\n",
       " array([0.0389007 , 0.07725042, 0.11560013, 0.15394985, 0.19229956,\n",
       "        0.23064928, 0.26899899, 0.3073487 , 0.34569842, 0.38404814,\n",
       "        0.42239785, 0.46074757, 0.49909728, 0.53744699, 0.57579671,\n",
       "        0.61414643, 0.65249614, 0.69084585, 0.72919557, 0.76754528,\n",
       "        0.805895  ]),\n",
       " <BarContainer object of 20 artists>)"
      ]
     },
     "execution_count": 6,
     "metadata": {},
     "output_type": "execute_result"
    },
    {
     "data": {
      "image/png": "[encoded data removed]",
      "text/plain": [
       "<Figure size 432x288 with 1 Axes>"
      ]
     },
     "metadata": {
      "needs_background": "light"
     },
     "output_type": "display_data"
    }
   ],
   "source": [
    "theta = bern_fit.stan_variable('theta')\n",
    "plt.hist(theta, bins=20)"
   ]
  },
  {
   "cell_type": "code",
   "execution_count": 7,
   "id": "523a61ce",
   "metadata": {},
   "outputs": [
    {
     "data": {
      "image/png": "[encoded data removed]",
      "text/plain": [
       "<Figure size 432x288 with 1 Axes>"
      ]
     },
     "metadata": {
      "needs_background": "light"
     },
     "output_type": "display_data"
    }
   ],
   "source": [
    "summary = bern_fit.summary()\n",
    "summary = summary.iloc[1]\n",
    "plt.hist(theta, bins=20)\n",
    "plt.axvline(summary['Mean'], color='r')\n",
    "plt.axvline(summary['StdDev'], color='y')\n",
    "plt.axvline(summary['5%'], color='g')\n",
    "plt.axvline(summary['95%'], color='b')\n",
    "plt.show()"
   ]
  }
 ],
 "metadata": {
  "interpreter": {
   "hash": "3acfd0d212cedc42c609187b82261e631eac706397bd7c45c61d4d9ddc6b7198"
  },
  "kernelspec": {
   "display_name": "Python 3.9.12 ('base')",
   "language": "python",
   "name": "python3"
  },
  "language_info": {
   "codemirror_mode": {
    "name": "ipython",
    "version": 3
   },
   "file_extension": ".py",
   "mimetype": "text/x-python",
   "name": "python",
   "nbconvert_exporter": "python",
   "pygments_lexer": "ipython3",
   "version": "3.9.12"
  }
 },
 "nbformat": 4,
 "nbformat_minor": 5
}
