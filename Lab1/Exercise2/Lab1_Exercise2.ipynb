{
 "cells": [
  {
   "cell_type": "code",
   "execution_count": 1,
   "id": "2f25d8a5",
   "metadata": {
    "scrolled": true
   },
   "outputs": [
    {
     "name": "stderr",
     "output_type": "stream",
     "text": [
      "INFO:cmdstanpy:found newer exe file, not recompiling\n",
      "INFO:cmdstanpy:CmdStan start processing\n"
     ]
    },
    {
     "data": {
      "application/vnd.jupyter.widget-view+json": {
       "model_id": "2b6c585e10ec44f79e6a7f8fbddc40ec",
       "version_major": 2,
       "version_minor": 0
      },
      "text/plain": [
       "chain 1 |          | 00:00 Status"
      ]
     },
     "metadata": {},
     "output_type": "display_data"
    },
    {
     "data": {
      "application/vnd.jupyter.widget-view+json": {
       "model_id": "ea706ecc59934db794525cd738f55b4c",
       "version_major": 2,
       "version_minor": 0
      },
      "text/plain": [
       "chain 2 |          | 00:00 Status"
      ]
     },
     "metadata": {},
     "output_type": "display_data"
    },
    {
     "data": {
      "application/vnd.jupyter.widget-view+json": {
       "model_id": "c97768b0c2f54161bb2ce161d6c65c74",
       "version_major": 2,
       "version_minor": 0
      },
      "text/plain": [
       "chain 3 |          | 00:00 Status"
      ]
     },
     "metadata": {},
     "output_type": "display_data"
    },
    {
     "data": {
      "application/vnd.jupyter.widget-view+json": {
       "model_id": "c5b9ec78a0c649c9868054ad58b4fe6b",
       "version_major": 2,
       "version_minor": 0
      },
      "text/plain": [
       "chain 4 |          | 00:00 Status"
      ]
     },
     "metadata": {},
     "output_type": "display_data"
    },
    {
     "name": "stdout",
     "output_type": "stream",
     "text": [
      "                                                                                                                                                                                                                                                                                                                                "
     ]
    },
    {
     "name": "stderr",
     "output_type": "stream",
     "text": [
      "INFO:cmdstanpy:CmdStan done processing.\n"
     ]
    },
    {
     "name": "stdout",
     "output_type": "stream",
     "text": [
      "\n"
     ]
    }
   ],
   "source": [
    "import os\n",
    "import numpy as np\n",
    "import matplotlib.pyplot as plt\n",
    "from cmdstanpy import CmdStanModel\n",
    "\n",
    "bernoulli_model = CmdStanModel(stan_file = 'bern_1.stan')\n",
    "bern_fit = bernoulli_model.sample(data = 'bern_1.data.json')"
   ]
  },
  {
   "cell_type": "code",
   "execution_count": 3,
   "id": "cf29ceba",
   "metadata": {},
   "outputs": [
    {
     "data": {
      "text/plain": [
       "(array([ 12.,  60., 140., 245., 338., 395., 412., 403., 385., 408., 319.,\n",
       "        270., 201., 158., 104.,  74.,  38.,  17.,  15.,   6.]),\n",
       " array([0.0237209 , 0.0615015 , 0.09928211, 0.13706272, 0.17484332,\n",
       "        0.21262392, 0.25040453, 0.28818513, 0.32596574, 0.36374635,\n",
       "        0.40152695, 0.43930756, 0.47708816, 0.51486877, 0.55264937,\n",
       "        0.59042998, 0.62821058, 0.66599119, 0.70377179, 0.7415524 ,\n",
       "        0.779333  ]),\n",
       " <BarContainer object of 20 artists>)"
      ]
     },
     "execution_count": 3,
     "metadata": {},
     "output_type": "execute_result"
    },
    {
     "data": {
      "image/png": "[encoded data removed]",
      "text/plain": [
       "<Figure size 432x288 with 1 Axes>"
      ]
     },
     "metadata": {
      "needs_background": "light"
     },
     "output_type": "display_data"
    }
   ],
   "source": [
    "theta = bern_fit.stan_variable('theta')\n",
    "plt.hist(theta, bins=20)"
   ]
  },
  {
   "cell_type": "code",
   "execution_count": 4,
   "id": "523a61ce",
   "metadata": {},
   "outputs": [
    {
     "data": {
      "image/png": "[encoded data removed]",
      "text/plain": [
       "<Figure size 432x288 with 1 Axes>"
      ]
     },
     "metadata": {
      "needs_background": "light"
     },
     "output_type": "display_data"
    }
   ],
   "source": [
    "summary = bern_fit.summary()\n",
    "summary = summary.iloc[1]\n",
    "plt.hist(theta, bins=20)\n",
    "plt.axvline(summary['Mean'], color='r')\n",
    "plt.axvline(summary['StdDev'], color='y')\n",
    "plt.axvline(summary['5%'], color='g')\n",
    "plt.axvline(summary['95%'], color='b')\n",
    "plt.show()"
   ]
  }
 ],
 "metadata": {
  "interpreter": {
   "hash": "3acfd0d212cedc42c609187b82261e631eac706397bd7c45c61d4d9ddc6b7198"
  },
  "kernelspec": {
   "display_name": "Python 3.9.12 ('base')",
   "language": "python",
   "name": "python3"
  },
  "language_info": {
   "codemirror_mode": {
    "name": "ipython",
    "version": 3
   },
   "file_extension": ".py",
   "mimetype": "text/x-python",
   "name": "python",
   "nbconvert_exporter": "python",
   "pygments_lexer": "ipython3",
   "version": "3.9.12"
  }
 },
 "nbformat": 4,
 "nbformat_minor": 5
}
