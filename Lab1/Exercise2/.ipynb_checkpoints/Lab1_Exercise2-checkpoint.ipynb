{
 "cells": [
  {
   "cell_type": "code",
   "execution_count": 22,
   "id": "2f25d8a5",
   "metadata": {
    "scrolled": true
   },
   "outputs": [
    {
     "name": "stderr",
     "output_type": "stream",
     "text": [
      "INFO:cmdstanpy:found newer exe file, not recompiling\n",
      "INFO:cmdstanpy:CmdStan start processing\n"
     ]
    },
    {
     "data": {
      "application/vnd.jupyter.widget-view+json": {
       "model_id": "df7b10d88566471c98388f6da7c6a3d0",
       "version_major": 2,
       "version_minor": 0
      },
      "text/plain": [
       "chain 1 |          | 00:00 Status"
      ]
     },
     "metadata": {},
     "output_type": "display_data"
    },
    {
     "data": {
      "application/vnd.jupyter.widget-view+json": {
       "model_id": "c0e0461830f44db8ae6420e16723345a",
       "version_major": 2,
       "version_minor": 0
      },
      "text/plain": [
       "chain 2 |          | 00:00 Status"
      ]
     },
     "metadata": {},
     "output_type": "display_data"
    },
    {
     "data": {
      "application/vnd.jupyter.widget-view+json": {
       "model_id": "86b1e2398f054ccd9978fc614e3deaa2",
       "version_major": 2,
       "version_minor": 0
      },
      "text/plain": [
       "chain 3 |          | 00:00 Status"
      ]
     },
     "metadata": {},
     "output_type": "display_data"
    },
    {
     "data": {
      "application/vnd.jupyter.widget-view+json": {
       "model_id": "6ce55bfb05f54b139501cac5745006aa",
       "version_major": 2,
       "version_minor": 0
      },
      "text/plain": [
       "chain 4 |          | 00:00 Status"
      ]
     },
     "metadata": {},
     "output_type": "display_data"
    },
    {
     "name": "stdout",
     "output_type": "stream",
     "text": [
      "                                                                                                                                                                                                                                                                                                                                                                                                                                                                                                "
     ]
    },
    {
     "name": "stderr",
     "output_type": "stream",
     "text": [
      "INFO:cmdstanpy:CmdStan done processing.\n"
     ]
    },
    {
     "name": "stdout",
     "output_type": "stream",
     "text": [
      "\n"
     ]
    }
   ],
   "source": [
    "import os\n",
    "import numpy as np\n",
    "import matplotlib.pyplot as plt\n",
    "from cmdstanpy import CmdStanModel\n",
    "\n",
    "bernoulli_model = CmdStanModel(stan_file = 'bern_1.stan')\n",
    "bern_fit = bernoulli_model.sample(data = 'bern_1.data.json')"
   ]
  },
  {
   "cell_type": "code",
   "execution_count": 23,
   "id": "cf29ceba",
   "metadata": {},
   "outputs": [
    {
     "data": {
      "text/plain": [
       "(array([ 22.,  97., 175., 302., 418., 457., 458., 452., 420., 330., 272.,\n",
       "        228., 147.,  94.,  61.,  41.,  15.,   8.,   2.,   1.]),\n",
       " array([0.0341623 , 0.07413393, 0.11410557, 0.1540772 , 0.19404884,\n",
       "        0.23402048, 0.27399211, 0.31396374, 0.35393538, 0.39390701,\n",
       "        0.43387865, 0.47385028, 0.51382192, 0.55379355, 0.59376519,\n",
       "        0.63373682, 0.67370846, 0.71368009, 0.75365173, 0.79362336,\n",
       "        0.833595  ]),\n",
       " <BarContainer object of 20 artists>)"
      ]
     },
     "execution_count": 23,
     "metadata": {},
     "output_type": "execute_result"
    },
    {
     "data": {
      "image/png": "[encoded data removed]",
      "text/plain": [
       "<Figure size 432x288 with 1 Axes>"
      ]
     },
     "metadata": {
      "needs_background": "light"
     },
     "output_type": "display_data"
    }
   ],
   "source": [
    "theta = bern_fit.stan_variable('theta')\n",
    "plt.hist(theta, bins=20)"
   ]
  },
  {
   "cell_type": "code",
   "execution_count": 33,
   "id": "523a61ce",
   "metadata": {},
   "outputs": [
    {
     "data": {
      "image/png": "[encoded data removed]",
      "text/plain": [
       "<Figure size 432x288 with 1 Axes>"
      ]
     },
     "metadata": {
      "needs_background": "light"
     },
     "output_type": "display_data"
    }
   ],
   "source": [
    "summary = bern_fit.summary()\n",
    "summary = summary.iloc[1]\n",
    "plt.hist(theta, bins=20)\n",
    "plt.axvline(summary['Mean'], color='r')\n",
    "plt.axvline(summary['StdDev'], color='y')\n",
    "plt.axvline(summary['5%'], color='g')\n",
    "plt.axvline(summary['95%'], color='b')\n",
    "plt.show()"
   ]
  }
 ],
 "metadata": {
  "kernelspec": {
   "display_name": "Python 3 (ipykernel)",
   "language": "python",
   "name": "python3"
  },
  "language_info": {
   "codemirror_mode": {
    "name": "ipython",
    "version": 3
   },
   "file_extension": ".py",
   "mimetype": "text/x-python",
   "name": "python",
   "nbconvert_exporter": "python",
   "pygments_lexer": "ipython3",
   "version": "3.9.7"
  }
 },
 "nbformat": 4,
 "nbformat_minor": 5
}
