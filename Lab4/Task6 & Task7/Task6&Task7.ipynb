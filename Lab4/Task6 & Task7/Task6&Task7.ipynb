{
 "cells": [
  {
   "cell_type": "code",
   "execution_count": 1,
   "metadata": {},
   "outputs": [],
   "source": [
    "from cmdstanpy import CmdStanModel\n",
    "import seaborn as sns\n",
    "import arviz as az\n",
    "import numpy as np\n",
    "import scipy.stats as stats\n",
    "\n",
    "import matplotlib.pyplot as plt\n",
    "import pandas as pd"
   ]
  },
  {
   "cell_type": "code",
   "execution_count": 20,
   "metadata": {},
   "outputs": [
    {
     "data": {
      "text/html": [
       "<div>\n",
       "<style scoped>\n",
       "    .dataframe tbody tr th:only-of-type {\n",
       "        vertical-align: middle;\n",
       "    }\n",
       "\n",
       "    .dataframe tbody tr th {\n",
       "        vertical-align: top;\n",
       "    }\n",
       "\n",
       "    .dataframe thead th {\n",
       "        text-align: right;\n",
       "    }\n",
       "</style>\n",
       "<table border=\"1\" class=\"dataframe\">\n",
       "  <thead>\n",
       "    <tr style=\"text-align: right;\">\n",
       "      <th></th>\n",
       "      <th>height</th>\n",
       "      <th>weight</th>\n",
       "      <th>age</th>\n",
       "      <th>male</th>\n",
       "    </tr>\n",
       "  </thead>\n",
       "  <tbody>\n",
       "    <tr>\n",
       "      <th>0</th>\n",
       "      <td>151.765</td>\n",
       "      <td>47.825606</td>\n",
       "      <td>63.0</td>\n",
       "      <td>1</td>\n",
       "    </tr>\n",
       "    <tr>\n",
       "      <th>1</th>\n",
       "      <td>139.700</td>\n",
       "      <td>36.485807</td>\n",
       "      <td>63.0</td>\n",
       "      <td>0</td>\n",
       "    </tr>\n",
       "    <tr>\n",
       "      <th>2</th>\n",
       "      <td>136.525</td>\n",
       "      <td>31.864838</td>\n",
       "      <td>65.0</td>\n",
       "      <td>0</td>\n",
       "    </tr>\n",
       "    <tr>\n",
       "      <th>3</th>\n",
       "      <td>156.845</td>\n",
       "      <td>53.041914</td>\n",
       "      <td>41.0</td>\n",
       "      <td>1</td>\n",
       "    </tr>\n",
       "    <tr>\n",
       "      <th>4</th>\n",
       "      <td>145.415</td>\n",
       "      <td>41.276872</td>\n",
       "      <td>51.0</td>\n",
       "      <td>0</td>\n",
       "    </tr>\n",
       "  </tbody>\n",
       "</table>\n",
       "</div>"
      ],
      "text/plain": [
       "    height     weight   age  male\n",
       "0  151.765  47.825606  63.0     1\n",
       "1  139.700  36.485807  63.0     0\n",
       "2  136.525  31.864838  65.0     0\n",
       "3  156.845  53.041914  41.0     1\n",
       "4  145.415  41.276872  51.0     0"
      ]
     },
     "execution_count": 20,
     "metadata": {},
     "output_type": "execute_result"
    }
   ],
   "source": [
    "_BASE_URL = \"https://raw.githubusercontent.com/rmcelreath/rethinking/Experimental/data\"\n",
    "HOWELL_DATASET_PATH = f\"{_BASE_URL}/Howell1.csv\"\n",
    "d = pd.read_csv(HOWELL_DATASET_PATH, sep=';', header=0)\n",
    "d=d[d.age>=18] #just adults \n",
    "d.head()"
   ]
  },
  {
   "cell_type": "markdown",
   "metadata": {},
   "source": [
    "# Task 6. Preparing data for fit"
   ]
  },
  {
   "cell_type": "code",
   "execution_count": 32,
   "metadata": {},
   "outputs": [
    {
     "name": "stderr",
     "output_type": "stream",
     "text": [
      "INFO:cmdstanpy:compiling stan file C:\\Users\\User\\Documents\\Data-Analytics-2022-Lab\\Lab4\\Task6\\height_2_fit.stan to exe file C:\\Users\\User\\Documents\\Data-Analytics-2022-Lab\\Lab4\\Task6\\height_2_fit.exe\n",
      "INFO:cmdstanpy:compiled model executable: C:\\Users\\User\\Documents\\Data-Analytics-2022-Lab\\Lab4\\Task6\\height_2_fit.exe\n",
      "WARNING:cmdstanpy:Stan compiler has produced 2 warnings:\n",
      "WARNING:cmdstanpy:\n",
      "--- Translating Stan model to C++ code ---\n",
      "bin/stanc.exe  --o=C:/Users/User/Documents/Data-Analytics-2022-Lab/Lab4/Task6/height_2_fit.hpp C:/Users/User/Documents/Data-Analytics-2022-Lab/Lab4/Task6/height_2_fit.stan\n",
      "Warning in 'C:/Users/User/Documents/Data-Analytics-2022-Lab/Lab4/Task6/height_2_fit.stan', line 4, column 3: Declaration\n",
      "    of arrays by placing brackets after a variable name is deprecated and\n",
      "    will be removed in Stan 2.32.0. Instead use the array keyword before the\n",
      "    type. This can be changed automatically using the auto-format flag to\n",
      "    stanc\n",
      "Warning in 'C:/Users/User/Documents/Data-Analytics-2022-Lab/Lab4/Task6/height_2_fit.stan', line 25, column 3: Declaration\n",
      "    of arrays by placing brackets after a variable name is deprecated and\n",
      "    will be removed in Stan 2.32.0. Instead use the array keyword before the\n",
      "    type. This can be changed automatically using the auto-format flag to\n",
      "    stanc\n",
      "\n",
      "--- Compiling, linking C++ code ---\n",
      "g++ -std=c++1y -m64 -D_REENTRANT -Wall -Wno-unused-function -Wno-uninitialized -Wno-unused-but-set-variable -Wno-unused-variable -Wno-sign-compare -Wno-unused-local-typedefs -Wno-int-in-bool-context -Wno-attributes -Wno-ignored-attributes      -I stan/lib/stan_math/lib/tbb_2020.3/include    -O3 -I src -I stan/src -I lib/rapidjson_1.1.0/ -I lib/CLI11-1.9.1/ -I stan/lib/stan_math/ -I stan/lib/stan_math/lib/eigen_3.3.9 -I stan/lib/stan_math/lib/boost_1.75.0 -I stan/lib/stan_math/lib/sundials_6.0.0/include -I stan/lib/stan_math/lib/sundials_6.0.0/src/sundials  -D_USE_MATH_DEFINES  -DBOOST_DISABLE_ASSERTS          -c  -x c++ -o C:/Users/User/Documents/Data-Analytics-2022-Lab/Lab4/Task6/height_2_fit.o C:/Users/User/Documents/Data-Analytics-2022-Lab/Lab4/Task6/height_2_fit.hpp\n",
      "g++ -std=c++1y -m64 -D_REENTRANT -Wall -Wno-unused-function -Wno-uninitialized -Wno-unused-but-set-variable -Wno-unused-variable -Wno-sign-compare -Wno-unused-local-typedefs -Wno-int-in-bool-context -Wno-attributes -Wno-ignored-attributes      -I stan/lib/stan_math/lib/tbb_2020.3/include    -O3 -I src -I stan/src -I lib/rapidjson_1.1.0/ -I lib/CLI11-1.9.1/ -I stan/lib/stan_math/ -I stan/lib/stan_math/lib/eigen_3.3.9 -I stan/lib/stan_math/lib/boost_1.75.0 -I stan/lib/stan_math/lib/sundials_6.0.0/include -I stan/lib/stan_math/lib/sundials_6.0.0/src/sundials  -D_USE_MATH_DEFINES  -DBOOST_DISABLE_ASSERTS                -Wl,-L,\"C:/Users/User/.cmdstan/cmdstan-2.29.1/stan/lib/stan_math/lib/tbb\" -Wl,-rpath,\"C:/Users/User/.cmdstan/cmdstan-2.29.1/stan/lib/stan_math/lib/tbb\"      C:/Users/User/Documents/Data-Analytics-2022-Lab/Lab4/Task6/height_2_fit.o src/cmdstan/main.o  -static-libgcc -static-libstdc++      -Wl,-L,\"C:/Users/User/.cmdstan/cmdstan-2.29.1/stan/lib/stan_math/lib/tbb\" -Wl,-rpath,\"C:/Users/User/.cmdstan/cmdstan-2.29.1/stan/lib/stan_math/lib/tbb\"   stan/lib/stan_math/lib/sundials_6.0.0/lib/libsundials_nvecserial.a stan/lib/stan_math/lib/sundials_6.0.0/lib/libsundials_cvodes.a stan/lib/stan_math/lib/sundials_6.0.0/lib/libsundials_idas.a stan/lib/stan_math/lib/sundials_6.0.0/lib/libsundials_kinsol.a  stan/lib/stan_math/lib/tbb/tbb.dll -o C:/Users/User/Documents/Data-Analytics-2022-Lab/Lab4/Task6/height_2_fit.exe\n",
      "rm -f C:/Users/User/Documents/Data-Analytics-2022-Lab/Lab4/Task6/height_2_fit.o\n",
      "\n",
      "INFO:cmdstanpy:CmdStan start processing\n",
      "chain 1 |\u001b[33m          \u001b[0m| 00:00 Status\n",
      "\u001b[A\n",
      "\n",
      "\u001b[A\u001b[AERROR:cmdstanpy:Chain [1] error: error during processing Operation not permitted\n",
      "ERROR:cmdstanpy:Chain [3] error: error during processing Operation not permitted\n",
      "ERROR:cmdstanpy:Chain [2] error: error during processing Operation not permitted\n",
      "ERROR:cmdstanpy:Chain [4] error: error during processing Operation not permitted\n",
      "chain 1 |\u001b[33m██████████\u001b[0m| 00:00 Sampling completed\n",
      "chain 2 |\u001b[33m██████████\u001b[0m| 00:00 Sampling completed\n",
      "chain 3 |\u001b[33m██████████\u001b[0m| 00:00 Sampling completed\n",
      "chain 4 |\u001b[33m██████████\u001b[0m| 00:00 Sampling completed"
     ]
    },
    {
     "name": "stdout",
     "output_type": "stream",
     "text": [
      "                                                                                                                                                                                                                                                                                                                                "
     ]
    },
    {
     "name": "stderr",
     "output_type": "stream",
     "text": [
      "\n",
      "INFO:cmdstanpy:CmdStan done processing.\n"
     ]
    },
    {
     "name": "stdout",
     "output_type": "stream",
     "text": [
      "\n"
     ]
    },
    {
     "ename": "RuntimeError",
     "evalue": "Error during sampling:\nException: variable does not exist; processing stage=data initialization; variable name=weight; base type=double (in 'C:/Users/User/Documents/Data-Analytics-2022-Lab/Lab4/Task6/height_2_fit.stan', line 3, column 3 to column 20)\nException: variable does not exist; processing stage=data initialization; variable name=weight; base type=double (in 'C:/Users/User/Documents/Data-Analytics-2022-Lab/Lab4/Task6/height_2_fit.stan', line 3, column 3 to column 20)\nException: variable does not exist; processing stage=data initialization; variable name=weight; base type=double (in 'C:/Users/User/Documents/Data-Analytics-2022-Lab/Lab4/Task6/height_2_fit.stan', line 3, column 3 to column 20)\nException: variable does not exist; processing stage=data initialization; variable name=weight; base type=double (in 'C:/Users/User/Documents/Data-Analytics-2022-Lab/Lab4/Task6/height_2_fit.stan', line 3, column 3 to column 20)Command and output files:\nRunSet: chains=4, chain_ids=[1, 2, 3, 4], num_processes=4\n cmd (chain 1):\n\t['C:\\\\Users\\\\User\\\\Documents\\\\Data-Analytics-2022-Lab\\\\Lab4\\\\Task6\\\\height_2_fit.exe', 'id=1', 'random', 'seed=28052020', 'data', 'file=C:\\\\Users\\\\User\\\\AppData\\\\Local\\\\Temp\\\\tmp110vvpr_\\\\69vtpjn_.json', 'output', 'file=C:\\\\Users\\\\User\\\\AppData\\\\Local\\\\Temp\\\\tmp110vvpr_\\\\height_2_fit-20220327093500_1.csv', 'method=sample', 'algorithm=hmc', 'adapt', 'engaged=1']\n retcodes=[1, 1, 1, 1]\n per-chain output files (showing chain 1 only):\n csv_file:\n\tC:\\Users\\User\\AppData\\Local\\Temp\\tmp110vvpr_\\height_2_fit-20220327093500_1.csv\n console_msgs (if any):\n\tC:\\Users\\User\\AppData\\Local\\Temp\\tmp110vvpr_\\height_2_fit-20220327093500_0-stdout.txt",
     "output_type": "error",
     "traceback": [
      "\u001b[1;31m---------------------------------------------------------------------------\u001b[0m",
      "\u001b[1;31mRuntimeError\u001b[0m                              Traceback (most recent call last)",
      "\u001b[1;32m~\\AppData\\Local\\Temp/ipykernel_16896/1414760384.py\u001b[0m in \u001b[0;36m<module>\u001b[1;34m\u001b[0m\n\u001b[0;32m      6\u001b[0m \u001b[1;33m\u001b[0m\u001b[0m\n\u001b[0;32m      7\u001b[0m \u001b[0mdata_fit\u001b[0m\u001b[1;33m=\u001b[0m\u001b[1;33m{\u001b[0m\u001b[1;34m'N'\u001b[0m \u001b[1;33m:\u001b[0m \u001b[0mN\u001b[0m\u001b[1;33m,\u001b[0m\u001b[1;34m'heights'\u001b[0m\u001b[1;33m:\u001b[0m\u001b[0mheights\u001b[0m\u001b[1;33m}\u001b[0m\u001b[1;33m\u001b[0m\u001b[1;33m\u001b[0m\u001b[0m\n\u001b[1;32m----> 8\u001b[1;33m fit=model_2_fit.sample(data=dict(N=len(d),\n\u001b[0m\u001b[0;32m      9\u001b[0m                                    heights=d.height.values),\n\u001b[0;32m     10\u001b[0m                          seed=28052020)\n",
      "\u001b[1;32m~\\anaconda3\\lib\\site-packages\\cmdstanpy\\model.py\u001b[0m in \u001b[0;36msample\u001b[1;34m(self, data, chains, parallel_chains, threads_per_chain, seed, chain_ids, inits, iter_warmup, iter_sampling, save_warmup, thin, max_treedepth, metric, step_size, adapt_engaged, adapt_delta, adapt_init_phase, adapt_metric_window, adapt_step_size, fixed_param, output_dir, sig_figs, save_latent_dynamics, save_profile, show_progress, show_console, refresh, time_fmt, force_one_process_per_chain)\u001b[0m\n\u001b[0;32m   1087\u001b[0m                     \u001b[0mmsg\u001b[0m\u001b[1;33m,\u001b[0m \u001b[0mrunset\u001b[0m\u001b[1;33m.\u001b[0m\u001b[0m__repr__\u001b[0m\u001b[1;33m(\u001b[0m\u001b[1;33m)\u001b[0m\u001b[1;33m\u001b[0m\u001b[1;33m\u001b[0m\u001b[0m\n\u001b[0;32m   1088\u001b[0m                 )\n\u001b[1;32m-> 1089\u001b[1;33m                 \u001b[1;32mraise\u001b[0m \u001b[0mRuntimeError\u001b[0m\u001b[1;33m(\u001b[0m\u001b[0mmsg\u001b[0m\u001b[1;33m)\u001b[0m\u001b[1;33m\u001b[0m\u001b[1;33m\u001b[0m\u001b[0m\n\u001b[0m\u001b[0;32m   1090\u001b[0m \u001b[1;33m\u001b[0m\u001b[0m\n\u001b[0;32m   1091\u001b[0m             \u001b[0mmcmc\u001b[0m \u001b[1;33m=\u001b[0m \u001b[0mCmdStanMCMC\u001b[0m\u001b[1;33m(\u001b[0m\u001b[0mrunset\u001b[0m\u001b[1;33m)\u001b[0m\u001b[1;33m\u001b[0m\u001b[1;33m\u001b[0m\u001b[0m\n",
      "\u001b[1;31mRuntimeError\u001b[0m: Error during sampling:\nException: variable does not exist; processing stage=data initialization; variable name=weight; base type=double (in 'C:/Users/User/Documents/Data-Analytics-2022-Lab/Lab4/Task6/height_2_fit.stan', line 3, column 3 to column 20)\nException: variable does not exist; processing stage=data initialization; variable name=weight; base type=double (in 'C:/Users/User/Documents/Data-Analytics-2022-Lab/Lab4/Task6/height_2_fit.stan', line 3, column 3 to column 20)\nException: variable does not exist; processing stage=data initialization; variable name=weight; base type=double (in 'C:/Users/User/Documents/Data-Analytics-2022-Lab/Lab4/Task6/height_2_fit.stan', line 3, column 3 to column 20)\nException: variable does not exist; processing stage=data initialization; variable name=weight; base type=double (in 'C:/Users/User/Documents/Data-Analytics-2022-Lab/Lab4/Task6/height_2_fit.stan', line 3, column 3 to column 20)Command and output files:\nRunSet: chains=4, chain_ids=[1, 2, 3, 4], num_processes=4\n cmd (chain 1):\n\t['C:\\\\Users\\\\User\\\\Documents\\\\Data-Analytics-2022-Lab\\\\Lab4\\\\Task6\\\\height_2_fit.exe', 'id=1', 'random', 'seed=28052020', 'data', 'file=C:\\\\Users\\\\User\\\\AppData\\\\Local\\\\Temp\\\\tmp110vvpr_\\\\69vtpjn_.json', 'output', 'file=C:\\\\Users\\\\User\\\\AppData\\\\Local\\\\Temp\\\\tmp110vvpr_\\\\height_2_fit-20220327093500_1.csv', 'method=sample', 'algorithm=hmc', 'adapt', 'engaged=1']\n retcodes=[1, 1, 1, 1]\n per-chain output files (showing chain 1 only):\n csv_file:\n\tC:\\Users\\User\\AppData\\Local\\Temp\\tmp110vvpr_\\height_2_fit-20220327093500_1.csv\n console_msgs (if any):\n\tC:\\Users\\User\\AppData\\Local\\Temp\\tmp110vvpr_\\height_2_fit-20220327093500_0-stdout.txt"
     ]
    }
   ],
   "source": [
    "model_2_fit=CmdStanModel(stan_file='height_2_fit.stan')\n",
    "\n",
    "N = 10\n",
    "d = d.iloc[0:N]\n",
    "heights = d['height']\n",
    "\n",
    "data_fit={'N' : N,'heights':heights}\n",
    "fit=model_2_fit.sample(data=dict(N=len(d),\n",
    "                                   heights=d.height.values),\n",
    "                         seed=28052020)"
   ]
  },
  {
   "cell_type": "code",
   "execution_count": null,
   "metadata": {},
   "outputs": [],
   "source": []
  }
 ],
 "metadata": {
  "interpreter": {
   "hash": "8fac594bfae6525c0c41b4041d2d72effa188cc8ead05f81b1fab2bb098927fb"
  },
  "kernelspec": {
   "display_name": "Python 3.9.7 ('base')",
   "language": "python",
   "name": "python3"
  },
  "language_info": {
   "codemirror_mode": {
    "name": "ipython",
    "version": 3
   },
   "file_extension": ".py",
   "mimetype": "text/x-python",
   "name": "python",
   "nbconvert_exporter": "python",
   "pygments_lexer": "ipython3",
   "version": "3.9.7"
  },
  "orig_nbformat": 4
 },
 "nbformat": 4,
 "nbformat_minor": 2
}
